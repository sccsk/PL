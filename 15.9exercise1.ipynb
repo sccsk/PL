{
 "cells": [
  {
   "cell_type": "code",
   "execution_count": 1,
   "id": "0921bbcb",
   "metadata": {},
   "outputs": [
    {
     "name": "stdout",
     "output_type": "stream",
     "text": [
      "事件： 車禍肇事判賠\n",
      "原告需賠償金額: 7706 元\n",
      "被告需賠償金額: 17981 元\n"
     ]
    }
   ],
   "source": [
    "#在一行車糾紛中,雙方都有違規,所以雙方皆有過失責任,判決結果為雙方依判賠比例賠償,判賠比例為7:3(被告:原告),而一開始賠償總額為25688元\n",
    "event=\"車禍肇事判賠\"\n",
    "sum_money=25688\n",
    "c_rate=0.3\n",
    "d_rate=0.7\n",
    "c_money=sum_money*c_rate\n",
    "d_money=sum_money*d_rate\n",
    "print(\"事件：\",event)\n",
    "print(\"原告需賠償金額:\",int(c_money),\"元\")\n",
    "print(\"被告需賠償金額:\",int(d_money),\"元\")"
   ]
  },
  {
   "cell_type": "code",
   "execution_count": null,
   "id": "4ec609e5",
   "metadata": {},
   "outputs": [],
   "source": []
  }
 ],
 "metadata": {
  "kernelspec": {
   "display_name": "Python 3 (ipykernel)",
   "language": "python",
   "name": "python3"
  },
  "language_info": {
   "codemirror_mode": {
    "name": "ipython",
    "version": 3
   },
   "file_extension": ".py",
   "mimetype": "text/x-python",
   "name": "python",
   "nbconvert_exporter": "python",
   "pygments_lexer": "ipython3",
   "version": "3.9.12"
  }
 },
 "nbformat": 4,
 "nbformat_minor": 5
}
