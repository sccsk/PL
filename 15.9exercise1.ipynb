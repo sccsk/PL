{
 "cells": [
  {
   "cell_type": "code",
   "execution_count": 1,
   "id": "30b3153b",
   "metadata": {},
   "outputs": [
    {
     "name": "stdout",
     "output_type": "stream",
     "text": [
      "<class 'int'>\n",
      "<class 'float'>\n",
      "總共要繳納的金額： 115612 元\n"
     ]
    }
   ],
   "source": [
    "#如果今日有一判決結果為「相對人於民國一百零六年三月二十一日簽之本票內載憑票交付聲請人新台幣陸萬參仟捌佰伍拾貳元,及自民國一百零六年三月二十一日起至清償日止,按年息百分之十六計算之利息得為制執行。\n",
    "money=63852\n",
    "year=4\n",
    "rate=0.16\n",
    "total_money=money*(1+rate)**year\n",
    "print(type(money))\n",
    "print(type(rate))\n",
    "print(\"總共要繳納的金額：\",int(total_money),\"元\")"
   ]
  },
  {
   "cell_type": "code",
   "execution_count": 1,
   "id": "a4c8cea3",
   "metadata": {},
   "outputs": [
    {
     "name": "stdout",
     "output_type": "stream",
     "text": [
      "事件： 車禍肇事判賠\n",
      "原告需賠償金額: 7706 元\n",
      "被告需賠償金額: 17981 元\n"
     ]
    }
   ],
   "source": [
    "#在一行車糾紛中,雙方都有違規,所以雙方皆有過失責任,判決結果為雙方依判賠比例賠償,判賠比例為7:3(被告:原告),而一開始賠償總額為25688元\n",
    "event=\"車禍肇事判賠\"\n",
    "sum_money=25688\n",
    "c_rate=0.3\n",
    "d_rate=0.7\n",
    "c_money=sum_money*c_rate\n",
    "d_money=sum_money*d_rate\n",
    "print(\"事件：\",event)\n",
    "print(\"原告需賠償金額:\",int(c_money),\"元\")\n",
    "print(\"被告需賠償金額:\",int(d_money),\"元\")"
   ]
  },
  {
   "cell_type": "code",
   "execution_count": 7,
   "id": "d133f747",
   "metadata": {},
   "outputs": [
    {
     "name": "stdout",
     "output_type": "stream",
     "text": [
      "要給多少: 12608 元\n"
     ]
    }
   ],
   "source": [
    "#被告丁o應給付原告新台幣壹萬壹仟捌佰零伍元,及自民國九十五年一月十九日起至清償日止按日息萬分之五計算之利息, 並自九十五年一月十九日起, 延滯第-個月當月給付違約金新台幣壹佰伍拾元, 延滯第 二個月當月給付違約金新台幣參佰元, 延滯第 三個月當月給付違約金新台幣肆佰伍拾元, 延滯第四個月當月給付違約金新台幣陸佰元, 延滯第五個月當月給付違約金新台幣柒佰伍拾元, 延滯第六個月當月給付違約金新台幣玖佰元。\n",
    "money=11805\n",
    "day_rate=0.0005\n",
    "month1=150\n",
    "month2=300\n",
    "sum_money=money*(1+day_rate)**59+month1+month2\n",
    "print(\"要給多少:\",int(sum_money),\"元\")"
   ]
  },
  {
   "cell_type": "code",
   "execution_count": 1,
   "id": "0997dd59",
   "metadata": {},
   "outputs": [
    {
     "name": "stdout",
     "output_type": "stream",
     "text": [
      "請輸入案件:被告闖紅燈\n",
      "被告賠100%\n"
     ]
    }
   ],
   "source": [
    "#在行車(糾紛中,會依雙方有無違反交通法規, 去判賠償比例Q請讓使用輸入被告闖紅燈、原告闖紅燈、被告原告皆闖紅燈,並顯示出各項判比例(如果使用者沒輸入任何訊息或其他無關語句,請顯示「請輸入有效訊息」)\n",
    "event=input(\"請輸入案件:\")\n",
    "if event==\"被告闖紅燈\":\n",
    "        print(\"被告賠100%\")\n",
    "elif event==\"原告闖紅燈\":\n",
    "        print(\"原告多被告少\")\n",
    "elif event==\"被告原告皆闖紅燈\": \n",
    "        print(\"原告50%被告50%\")\n",
    "else:\n",
    "    print(\"請輸入有效訊息\")"
   ]
  }
 ],
 "metadata": {
  "kernelspec": {
   "display_name": "Python 3 (ipykernel)",
   "language": "python",
   "name": "python3"
  },
  "language_info": {
   "codemirror_mode": {
    "name": "ipython",
    "version": 3
   },
   "file_extension": ".py",
   "mimetype": "text/x-python",
   "name": "python",
   "nbconvert_exporter": "python",
   "pygments_lexer": "ipython3",
   "version": "3.9.12"
  }
 },
 "nbformat": 4,
 "nbformat_minor": 5
}
