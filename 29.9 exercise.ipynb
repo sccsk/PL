{
 "cells": [
  {
   "cell_type": "code",
   "execution_count": 4,
   "id": "1b03a525",
   "metadata": {},
   "outputs": [
    {
     "name": "stdout",
     "output_type": "stream",
     "text": [
      "['零食', '飲料']\n",
      "[['薯片', '巧克力', '果凍', '冰淇淋', '奧利奧', '爆米花'], ['可樂', '雪碧', '奶茶', '冰紅茶', '果粒橙', '牛奶', '咖啡']]\n",
      "冰紅茶\n",
      "{'零食': ['薯片', '巧克力', '果凍', '冰淇淋', '奧利奧', '爆米花'], '飲料': ['可樂', '雪碧', '奶茶', '冰紅茶', '果粒橙', '牛奶', '咖啡', '豆奶']}\n"
     ]
    }
   ],
   "source": [
    "d={\"零食\":[\"薯片\",\"巧克力\",\"果凍\",\"冰淇淋\",\"奧利奧\",\"爆米花\"],\n",
    "   \"飲料\":[\"可樂\",\"雪碧\",\"奶茶\",\"冰紅茶\",\"果粒橙\",\"牛奶\",\"咖啡\"]}\n",
    "\n",
    "l1=list(d.keys())\n",
    "print(l1)\n",
    "l2=list(d.values())\n",
    "print(l2)\n",
    "\n",
    "print(d[\"飲料\"][3])\n",
    "\n",
    "\n",
    "d[\"飲料\"]=[\"可樂\",\"雪碧\",\"奶茶\",\"冰紅茶\",\"果粒橙\",\"牛奶\",\"咖啡\",\"豆奶\"]\n",
    "print(d)"
   ]
  }
 ],
 "metadata": {
  "kernelspec": {
   "display_name": "Python 3 (ipykernel)",
   "language": "python",
   "name": "python3"
  },
  "language_info": {
   "codemirror_mode": {
    "name": "ipython",
    "version": 3
   },
   "file_extension": ".py",
   "mimetype": "text/x-python",
   "name": "python",
   "nbconvert_exporter": "python",
   "pygments_lexer": "ipython3",
   "version": "3.9.12"
  }
 },
 "nbformat": 4,
 "nbformat_minor": 5
}
