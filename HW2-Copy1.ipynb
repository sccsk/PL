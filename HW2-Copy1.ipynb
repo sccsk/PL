{
 "cells": [
  {
   "cell_type": "code",
   "execution_count": 39,
   "id": "fa42c91c",
   "metadata": {},
   "outputs": [],
   "source": [
    "d = {\n",
    "  \"入園人數\": [\n",
    "    {\n",
    "      \"年度\": \"110\",\n",
    "      \"月份\": \"1月\",\n",
    "      \"現金門票收入\": \"1857165\",\n",
    "      \"多卡通門票收入\": \"1346110\",\n",
    "      \"門票收入合計\": \"3203275\",\n",
    "      \"當月購票入園人數\": \"94118\"\n",
    "    },\n",
    "    {\n",
    "      \"年度\": \"110\",\n",
    "      \"月份\": \"2月\",\n",
    "      \"現金門票收入\": \"2530235\",\n",
    "      \"多卡通門票收入\": \"2052085\",\n",
    "      \"門票收入合計\": \"4582320\",\n",
    "      \"當月購票入園人數\": \"121185\"\n",
    "    }\n",
    "  ]\n",
    "}"
   ]
  },
  {
   "cell_type": "code",
   "execution_count": 40,
   "id": "853b8155",
   "metadata": {},
   "outputs": [
    {
     "data": {
      "text/plain": [
       "dict_items([('入園人數', [{'年度': '110', '月份': '1月', '現金門票收入': '1857165', '多卡通門票收入': '1346110', '門票收入合計': '3203275', '當月購票入園人數': '94118'}, {'年度': '110', '月份': '2月', '現金門票收入': '2530235', '多卡通門票收入': '2052085', '門票收入合計': '4582320', '當月購票入園人數': '121185'}])])"
      ]
     },
     "execution_count": 40,
     "metadata": {},
     "output_type": "execute_result"
    }
   ],
   "source": [
    "#將d裡面的內容(items)顯示出來\n",
    "d.items()"
   ]
  },
  {
   "cell_type": "code",
   "execution_count": 41,
   "id": "c60210bb",
   "metadata": {},
   "outputs": [
    {
     "data": {
      "text/plain": [
       "[{'年度': '110',\n",
       "  '月份': '1月',\n",
       "  '現金門票收入': '1857165',\n",
       "  '多卡通門票收入': '1346110',\n",
       "  '門票收入合計': '3203275',\n",
       "  '當月購票入園人數': '94118'},\n",
       " {'年度': '110',\n",
       "  '月份': '2月',\n",
       "  '現金門票收入': '2530235',\n",
       "  '多卡通門票收入': '2052085',\n",
       "  '門票收入合計': '4582320',\n",
       "  '當月購票入園人數': '121185'}]"
      ]
     },
     "execution_count": 41,
     "metadata": {},
     "output_type": "execute_result"
    }
   ],
   "source": [
    "temp = d.get('入園人數')\n",
    "temp"
   ]
  },
  {
   "cell_type": "code",
   "execution_count": 42,
   "id": "3150e300",
   "metadata": {},
   "outputs": [
    {
     "ename": "AttributeError",
     "evalue": "'list' object has no attribute 'get'",
     "output_type": "error",
     "traceback": [
      "\u001b[0;31m---------------------------------------------------------------------------\u001b[0m",
      "\u001b[0;31mAttributeError\u001b[0m                            Traceback (most recent call last)",
      "Input \u001b[0;32mIn [42]\u001b[0m, in \u001b[0;36m<cell line: 1>\u001b[0;34m()\u001b[0m\n\u001b[0;32m----> 1\u001b[0m \u001b[38;5;28mprint\u001b[39m(\u001b[43mtemp\u001b[49m\u001b[38;5;241;43m.\u001b[39;49m\u001b[43mget\u001b[49m(\u001b[38;5;124m\"\u001b[39m\u001b[38;5;124m月份\u001b[39m\u001b[38;5;124m\"\u001b[39m))\n",
      "\u001b[0;31mAttributeError\u001b[0m: 'list' object has no attribute 'get'"
     ]
    }
   ],
   "source": [
    "print(temp.get(\"月份\"))"
   ]
  },
  {
   "cell_type": "code",
   "execution_count": 17,
   "id": "0643e1b8",
   "metadata": {},
   "outputs": [],
   "source": [
    "ask = \"1月\""
   ]
  },
  {
   "cell_type": "code",
   "execution_count": 18,
   "id": "906fdccc",
   "metadata": {},
   "outputs": [
    {
     "ename": "AttributeError",
     "evalue": "'str' object has no attribute 'get'",
     "output_type": "error",
     "traceback": [
      "\u001b[0;31m---------------------------------------------------------------------------\u001b[0m",
      "\u001b[0;31mAttributeError\u001b[0m                            Traceback (most recent call last)",
      "Input \u001b[0;32mIn [18]\u001b[0m, in \u001b[0;36m<cell line: 1>\u001b[0;34m()\u001b[0m\n\u001b[1;32m      1\u001b[0m \u001b[38;5;28;01mfor\u001b[39;00m i \u001b[38;5;129;01min\u001b[39;00m d:\n\u001b[0;32m----> 2\u001b[0m     \u001b[38;5;28;01mif\u001b[39;00m ask \u001b[38;5;241m==\u001b[39m \u001b[43mi\u001b[49m\u001b[38;5;241;43m.\u001b[39;49m\u001b[43mget\u001b[49m(\u001b[38;5;124m'\u001b[39m\u001b[38;5;124m月份\u001b[39m\u001b[38;5;124m'\u001b[39m):\n\u001b[1;32m      3\u001b[0m         \u001b[38;5;28mprint\u001b[39m(ask,\u001b[38;5;124m'\u001b[39m\u001b[38;5;124m的\u001b[39m\u001b[38;5;124m'\u001b[39m,i\u001b[38;5;241m.\u001b[39mget(\u001b[38;5;124m'\u001b[39m\u001b[38;5;124m當月購票入園人數\u001b[39m\u001b[38;5;124m'\u001b[39m), \u001b[38;5;124m'\u001b[39m\u001b[38;5;124m人\u001b[39m\u001b[38;5;124m'\u001b[39m)\n",
      "\u001b[0;31mAttributeError\u001b[0m: 'str' object has no attribute 'get'"
     ]
    }
   ],
   "source": [
    "for i in d:\n",
    "    if ask == i.get('月份'):\n",
    "        print(ask,'的',i.get('當月購票入園人數'), '人')"
   ]
  },
  {
   "cell_type": "code",
   "execution_count": null,
   "id": "ad98bb62",
   "metadata": {},
   "outputs": [],
   "source": []
  }
 ],
 "metadata": {
  "kernelspec": {
   "display_name": "Python 3 (ipykernel)",
   "language": "python",
   "name": "python3"
  },
  "language_info": {
   "codemirror_mode": {
    "name": "ipython",
    "version": 3
   },
   "file_extension": ".py",
   "mimetype": "text/x-python",
   "name": "python",
   "nbconvert_exporter": "python",
   "pygments_lexer": "ipython3",
   "version": "3.9.12"
  }
 },
 "nbformat": 4,
 "nbformat_minor": 5
}
