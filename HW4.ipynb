{
 "cells": [
  {
   "cell_type": "code",
   "execution_count": 1,
   "id": "019787ce",
   "metadata": {},
   "outputs": [],
   "source": [
    "import requests \n",
    "from bs4 import BeautifulSoup\n",
    "import pandas as pd\n",
    " \n",
    " \n",
    "url = 'https://www.dcard.tw/f/relationship/p/240520071?cid=B381C07F-3819-495E-BD34-DB3A643B794F'\n",
    "r = requests.get(url)\n",
    "web_content = r.text\n",
    "soup = BeautifulSoup(web_content,'lxml')"
   ]
  },
  {
   "cell_type": "code",
   "execution_count": 2,
   "id": "8edba5c6",
   "metadata": {
    "scrolled": true
   },
   "outputs": [
    {
     "name": "stdout",
     "output_type": "stream",
     "text": [
      "[]\n"
     ]
    }
   ],
   "source": [
    "title = soup.find_all('div', class_='atm_gi_1nzmc2w c1gs4vo7')\n",
    "print(title)"
   ]
  },
  {
   "cell_type": "code",
   "execution_count": 17,
   "id": "892763fa",
   "metadata": {},
   "outputs": [
    {
     "name": "stdout",
     "output_type": "stream",
     "text": [
      "黑豹2：瓦干達萬歲\n",
      "幽靜的山荷葉\n",
      "哈勇家\n",
      "春心萌動的老屋緣廊\n",
      "即使，這份戀情今晚會從世上消失\n",
      "星夢性快感\n",
      "海鷗來過的房間\n",
      "抓狂養老院\n",
      "愛．子\n"
     ]
    }
   ],
   "source": [
    "info_items = soup.find_all('div', 'release_info')\n",
    " \n",
    "for item in info_items:\n",
    "    name = item.find('div', 'release_movie_name').a.text.strip()\n",
    "    print(name)\n"
   ]
  },
  {
   "cell_type": "code",
   "execution_count": null,
   "id": "73844d49",
   "metadata": {},
   "outputs": [],
   "source": []
  }
 ],
 "metadata": {
  "kernelspec": {
   "display_name": "Python 3 (ipykernel)",
   "language": "python",
   "name": "python3"
  },
  "language_info": {
   "codemirror_mode": {
    "name": "ipython",
    "version": 3
   },
   "file_extension": ".py",
   "mimetype": "text/x-python",
   "name": "python",
   "nbconvert_exporter": "python",
   "pygments_lexer": "ipython3",
   "version": "3.9.12"
  }
 },
 "nbformat": 4,
 "nbformat_minor": 5
}
