{
 "cells": [
  {
   "cell_type": "code",
   "execution_count": 2,
   "id": "05035234",
   "metadata": {},
   "outputs": [
    {
     "name": "stdout",
     "output_type": "stream",
     "text": [
      "<class 'int'>\n",
      "<class 'float'>\n"
     ]
    },
    {
     "ename": "NameError",
     "evalue": "name 'tatol_money' is not defined",
     "output_type": "error",
     "traceback": [
      "\u001b[0;31m---------------------------------------------------------------------------\u001b[0m",
      "\u001b[0;31mNameError\u001b[0m                                 Traceback (most recent call last)",
      "Input \u001b[0;32mIn [2]\u001b[0m, in \u001b[0;36m<cell line: 8>\u001b[0;34m()\u001b[0m\n\u001b[1;32m      6\u001b[0m \u001b[38;5;28mprint\u001b[39m(\u001b[38;5;28mtype\u001b[39m(money))\n\u001b[1;32m      7\u001b[0m \u001b[38;5;28mprint\u001b[39m(\u001b[38;5;28mtype\u001b[39m(rate))\n\u001b[0;32m----> 8\u001b[0m \u001b[38;5;28mprint\u001b[39m(\u001b[38;5;124m\"\u001b[39m\u001b[38;5;124m總共要繳納的金額：\u001b[39m\u001b[38;5;124m\"\u001b[39m,\u001b[38;5;28mint\u001b[39m(\u001b[43mtatol_money\u001b[49m),\u001b[38;5;124m\"\u001b[39m\u001b[38;5;124m元\u001b[39m\u001b[38;5;124m\"\u001b[39m)\n",
      "\u001b[0;31mNameError\u001b[0m: name 'tatol_money' is not defined"
     ]
    }
   ],
   "source": [
    "#如果今日有一判決結果為「相對人於民國一百零六年三月二十一日簽之本票內載憑票交付聲請人新台幣陸萬參仟捌佰伍拾貳元,及自民國一百零六年三月二十一日起至清償日止,按年息百分之十六計算之利息得為制執行。\n",
    "money=63852\n",
    "year=4\n",
    "rate=0.16\n",
    "total_money=money*(1+rate)**year\n",
    "print(type(money))\n",
    "print(type(rate))\n",
    "print(\"總共要繳納的金額：\",int(tatol_money),\"元\")"
   ]
  },
  {
   "cell_type": "code",
   "execution_count": null,
   "id": "143e3526",
   "metadata": {},
   "outputs": [],
   "source": []
  }
 ],
 "metadata": {
  "kernelspec": {
   "display_name": "Python 3 (ipykernel)",
   "language": "python",
   "name": "python3"
  },
  "language_info": {
   "codemirror_mode": {
    "name": "ipython",
    "version": 3
   },
   "file_extension": ".py",
   "mimetype": "text/x-python",
   "name": "python",
   "nbconvert_exporter": "python",
   "pygments_lexer": "ipython3",
   "version": "3.9.12"
  }
 },
 "nbformat": 4,
 "nbformat_minor": 5
}
