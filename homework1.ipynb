{
 "cells": [
  {
   "cell_type": "code",
   "execution_count": 72,
   "id": "bfd17252",
   "metadata": {},
   "outputs": [],
   "source": [
    "import pandas as pd\n",
    "\n",
    "# read csv file\n",
    "df = pd.read_csv(\"k1.csv\")"
   ]
  },
  {
   "cell_type": "code",
   "execution_count": 38,
   "id": "b337827d",
   "metadata": {},
   "outputs": [
    {
     "name": "stdout",
     "output_type": "stream",
     "text": [
      "list[0       False\n",
      "1       False\n",
      "2       False\n",
      "3       False\n",
      "4       False\n",
      "        ...  \n",
      "6837    False\n",
      "6838    False\n",
      "6839    False\n",
      "6840    False\n",
      "6841    False\n",
      "Length: 6842, dtype: bool]\n"
     ]
    }
   ],
   "source": [
    "public=list[(df['縣市名稱'] == '[01]新北市') & (df[\"公/私立\"] == \"公立\")]\n",
    "print(public)"
   ]
  },
  {
   "cell_type": "code",
   "execution_count": null,
   "id": "ffc6820c",
   "metadata": {},
   "outputs": [],
   "source": []
  }
 ],
 "metadata": {
  "kernelspec": {
   "display_name": "Python 3 (ipykernel)",
   "language": "python",
   "name": "python3"
  },
  "language_info": {
   "codemirror_mode": {
    "name": "ipython",
    "version": 3
   },
   "file_extension": ".py",
   "mimetype": "text/x-python",
   "name": "python",
   "nbconvert_exporter": "python",
   "pygments_lexer": "ipython3",
   "version": "3.9.12"
  }
 },
 "nbformat": 4,
 "nbformat_minor": 5
}
