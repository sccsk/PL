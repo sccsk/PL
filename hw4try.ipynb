{
 "cells": [
  {
   "cell_type": "code",
   "execution_count": 1,
   "id": "c1f9ab9f",
   "metadata": {},
   "outputs": [],
   "source": [
    "import requests \n",
    "from bs4 import BeautifulSoup\n",
    "import pandas as pd\n",
    " \n",
    " \n",
    "url = 'https://news.google.com/topics/CAAqJQgKIh9DQkFTRVFvSUwyMHZNR3QwTlRFU0JYcG9MVlJYS0FBUAE?hl=zh-TW&gl=TW&ceid=TW%3Azh-Hant'\n",
    "r = requests.get(url)\n",
    "web_content = r.text\n",
    "soup = BeautifulSoup(web_content,'lxml')"
   ]
  },
  {
   "cell_type": "code",
   "execution_count": 2,
   "id": "c0b8639f",
   "metadata": {},
   "outputs": [
    {
     "name": "stdout",
     "output_type": "stream",
     "text": [
      "[<h3 class=\"ipQwMb ekueJc RD0gLb\"><a class=\"DY5T1d RZIKme\" href=\"./articles/CBMiLGh0dHBzOi8vbmV3cy50dHYuY29tLnR3L25ld3MvMTExMTExNjAwMDQyMDBX0gEA?hl=zh-TW&amp;gl=TW&amp;ceid=TW%3Azh-Hant\">估2050全美1300萬人罹患阿茲海默症！專家認證「1飲食模式」防失智</a></h3>, <h3 class=\"ipQwMb ekueJc RD0gLb\"><a class=\"DY5T1d RZIKme\" href=\"./articles/CBMid2h0dHBzOi8vd3d3LmhlYWxpbmdkYWlseS5jb20udHcvYXJ0aWNsZXMvJUU1JUE2JTgyJUU0JUJEJTk1JUU2JUIyJUJCJUU3JTk5JTgyQURIRC0lRTglQkElQUIlRTUlQkYlODMlRTclOTYlQkUlRTclOTclODUv0gF9aHR0cHM6Ly93d3cuaGVhbGluZ2RhaWx5LmNvbS50dy9hcnRpY2xlcy8lRTUlQTYlODIlRTQlQkQlOTUlRTYlQjIlQkIlRTclOTklODJBREhELSVFOCVCQSVBQiVFNSVCRiU4MyVFNyU5NiVCRSVFNyU5NyU4NS8_YW1wPTE?hl=zh-TW&amp;gl=TW&amp;ceid=TW%3Azh-Hant\">不想看精神科如何治療ADHD？過來人分享治療過動症經驗</a></h3>, <h3 class=\"ipQwMb ekueJc RD0gLb\"><a class=\"DY5T1d RZIKme\" href=\"./articles/CBMiL2h0dHBzOi8vd3d3LnNvdW5kb2Zob3BlLm9yZy9wb3N0LzY2ODQ2Nj9sYW5nPWI10gEA?hl=zh-TW&amp;gl=TW&amp;ceid=TW%3Azh-Hant\">你被“全麥麵包”套路過嗎？如何選全麥百分百的麵包</a></h3>, <h3 class=\"ipQwMb ekueJc RD0gLb\"><a class=\"DY5T1d RZIKme\" href=\"./articles/CAIiEBN22r4H-Tn7rndbJeEsymAqGQgEKhAIACoHCAowicesCzCW0sQDMKy8rAc?uo=CAUiJ2h0dHBzOi8vaGVhbHRoLmV0dG9kYXkubmV0L25ld3MvMjM3OTA3OdIBAA&amp;hl=zh-TW&amp;gl=TW&amp;ceid=TW%3Azh-Hant\">「肉類vs.豆類」蛋白質誰更好？營養師解答 吃這1種不脹氣</a></h3>, <h3 class=\"ipQwMb ekueJc RD0gLb\"><a class=\"DY5T1d RZIKme\" href=\"./articles/CBMiM2h0dHBzOi8vd3d3Lm50ZHR2LmNvbS9iNS8yMDIyLzExLzE2L2ExMDM1NzU5NzguaHRtbNIBN2h0dHBzOi8vd3d3Lm50ZHR2LmNvbS9iNS8yMDIyLzExLzE2L2ExMDM1NzU5NzguaHRtbC9hbXA?hl=zh-TW&amp;gl=TW&amp;ceid=TW%3Azh-Hant\">三餐這樣吃才健康 常見營養4大問一定要知道</a></h3>, <h3 class=\"ipQwMb ekueJc RD0gLb\"><a class=\"DY5T1d RZIKme\" href=\"./articles/CBMic2h0dHBzOi8vd3d3LmhlYWxpbmdkYWlseS5jb20udHcvYXJ0aWNsZXMvJUU4JTk4JThCJUU2JTlFJTlDJUU1JUE1JUJEJUU4JTk5JTk1LSVFOSVBMyU5RiVFNyU4OSVBOSVFNyU4NyU5RiVFOSVBNCU4QS_SAXlodHRwczovL3d3dy5oZWFsaW5nZGFpbHkuY29tLnR3L2FydGljbGVzLyVFOCU5OCU4QiVFNiU5RSU5QyVFNSVBNSVCRCVFOCU5OSU5NS0lRTklQTMlOUYlRTclODklQTklRTclODclOUYlRTklQTQlOEEvP2FtcD0x?hl=zh-TW&amp;gl=TW&amp;ceid=TW%3Azh-Hant\">蘋果好處多但要小心脂肪肝！蘋果油油的是塗蠟嗎？3招分辨天然/人工蠟</a></h3>, <h3 class=\"ipQwMb ekueJc RD0gLb\"><a class=\"DY5T1d RZIKme\" href=\"./articles/CBMiTWh0dHBzOi8vaGVhbHRoLnVkbi5jb20vaGVhbHRoL3N0b3J5LzEwNjk2LzY3NzAwODM_ZnJvbT11ZG4tY2F0ZW5ld25ld3NfY2gxMDA10gEA?hl=zh-TW&amp;gl=TW&amp;ceid=TW%3Azh-Hant\">染新冠年輕族易腦霧、高危險群長者恐失智醫籲3方式助腦新生｜元氣網</a></h3>, <h3 class=\"ipQwMb ekueJc RD0gLb\"><a class=\"DY5T1d RZIKme\" href=\"./articles/CCAiCzhSV0dCZVY5a0x3mAEB?hl=zh-TW&amp;gl=TW&amp;ceid=TW%3Azh-Hant\">膽固醇是甚麼？好膽固醇過量攝取亦有害</a></h3>, <h3 class=\"ipQwMb ekueJc RD0gLb\"><a class=\"DY5T1d RZIKme\" href=\"./articles/CBMiL2h0dHBzOi8vd3d3LnNvdW5kb2Zob3BlLm9yZy9wb3N0LzY2OTQ1Nj9sYW5nPWI10gEA?hl=zh-TW&amp;gl=TW&amp;ceid=TW%3Azh-Hant\">日本研究：工作老出錯嗎？看看是不是成人多動症</a></h3>, <h3 class=\"ipQwMb ekueJc RD0gLb\"><a class=\"DY5T1d RZIKme\" href=\"./articles/CBMiL2h0dHBzOi8vd3d3LnNvdW5kb2Zob3BlLm9yZy9wb3N0LzY2ODAxNj9sYW5nPWI10gEA?hl=zh-TW&amp;gl=TW&amp;ceid=TW%3Azh-Hant\">美研究：女性睡好覺可提高事業心！與情緒控管有關</a></h3>, <h3 class=\"ipQwMb ekueJc RD0gLb\"><a class=\"DY5T1d RZIKme\" href=\"./articles/CBMiKGh0dHBzOi8vaGVhbHRoLnR2YnMuY29tLnR3L3Jldmlldy8zMzYyNDPSASxodHRwczovL2hlYWx0aC50dmJzLmNvbS50dy9hbXAvcmV2aWV3LzMzNjI0Mw?hl=zh-TW&amp;gl=TW&amp;ceid=TW%3Azh-Hant\">鼻塞怎麼通？確診後出現延遲性嗅覺喪失？3穴位按摩3分鐘 舒緩嗅覺障礙</a></h3>, <h3 class=\"ipQwMb ekueJc RD0gLb\"><a class=\"DY5T1d RZIKme\" href=\"./articles/CAIiEH6_fUDYrsVLlH6HWa9hJ8IqGQgEKhAIACoHCAowuM2QCzCq2aQDMNettAY?uo=CAUiKGh0dHBzOi8vaGVhbHRoLnR2YnMuY29tLnR3L3Jldmlldy8zMzYyMzPSAQA&amp;hl=zh-TW&amp;gl=TW&amp;ceid=TW%3Azh-Hant\">一直好累看哪科？「4問題」幫你篩選科別！隔薑灸「消炎3穴」調理慢性疲勞</a></h3>, <h3 class=\"ipQwMb ekueJc RD0gLb\"><a class=\"DY5T1d RZIKme\" href=\"./articles/CAIiEAHInmTi19irYd0vbDr18zwqGQgEKhAIACoHCAowl9LeCjDxqtYBMPCyoQM?uo=CAUiSGh0dHBzOi8vdGVjaG5ld3MudHcvMjAyMi8xMS8xNS9iZWVzLWxpZmVzcGFuLWxlc3MtdGhhbi1oYWxmLWluLTUwLXllYXJzL9IBAA&amp;hl=zh-TW&amp;gl=TW&amp;ceid=TW%3Azh-Hant\">蜜蜂消失的真正原因？研究：50 年來蜜蜂壽命減半</a></h3>, <h3 class=\"ipQwMb ekueJc RD0gLb\"><a class=\"DY5T1d RZIKme\" href=\"./articles/CBMiPWh0dHBzOi8vd3d3LmNoaW5hdGltZXMuY29tL3JlYWx0aW1lbmV3cy8yMDIyMTExNTAwMzcyNi0yNjA0MTjSAUFodHRwczovL3d3dy5jaGluYXRpbWVzLmNvbS9hbXAvcmVhbHRpbWVuZXdzLzIwMjIxMTE1MDAzNzI2LTI2MDQxOA?hl=zh-TW&amp;gl=TW&amp;ceid=TW%3Azh-Hant\">別再害怕曬太陽 醫揭3大好處 有效改善失眠</a></h3>, <h3 class=\"ipQwMb ekueJc RD0gLb\"><a class=\"DY5T1d RZIKme\" href=\"./articles/CAIiEJduPzVTtQoG7op0oEv7fi4qMwgEKioIACIQKjSbCxZ138pETYj7wUdSVioUCAoiECo0mwsWdd_KRE2I-8FHUlYw0sXIBg?uo=CAUiNGh0dHBzOi8vd3d3LmVwb2NodGltZXMuY29tL2I1LzIyLzExLzE1L24xMzg2NjQ2NC5odG3SAQA&amp;hl=zh-TW&amp;gl=TW&amp;ceid=TW%3Azh-Hant\">八成感冒來自病毒感染 一週內症狀未緩解須注意</a></h3>, <h3 class=\"ipQwMb ekueJc RD0gLb\"><a class=\"DY5T1d RZIKme\" href=\"./articles/CAIiEOE3U5g9yVFjkonPX8Ua9XAqGQgEKhAIACoHCAown7f0CjDxnqADMP2uswc?uo=CAUiLWh0dHBzOi8vd3d3LnNldG4uY29tL05ld3MuYXNweD9OZXdzSUQ9MTIwODIxNdIBAA&amp;hl=zh-TW&amp;gl=TW&amp;ceid=TW%3Azh-Hant\">發現肛門長了痘痘？醫警告應盡快就醫檢查| 名家</a></h3>, <h3 class=\"ipQwMb ekueJc RD0gLb\"><a class=\"DY5T1d RZIKme\" href=\"./articles/CAIiEMxxzHZUENEk_PSUP-QOjZsqGQgEKhAIACoHCAowrY-YCzC0ua8DMPnw4wc?uo=CAUiK2h0dHBzOi8vdG9kYXkubGluZS5tZS90dy92Mi9hcnRpY2xlL01MZUROTVbSAQA&amp;hl=zh-TW&amp;gl=TW&amp;ceid=TW%3Azh-Hant\">血液葉酸濃度與憂鬱症有關 攝取1營養素可減自殺風險 | NOW健康 | LINE TODAY</a></h3>, <h3 class=\"ipQwMb ekueJc RD0gLb\"><a class=\"DY5T1d RZIKme\" href=\"./articles/CBMiL2h0dHBzOi8vd3d3LnNvdW5kb2Zob3BlLm9yZy9wb3N0LzY3MDExMz9sYW5nPWI10gEA?hl=zh-TW&amp;gl=TW&amp;ceid=TW%3Azh-Hant\">英研究：兒童及青少年因染疫死亡較少，多與原先潛在健康問題有關</a></h3>, <h3 class=\"ipQwMb ekueJc RD0gLb\"><a class=\"DY5T1d RZIKme\" href=\"./articles/CBMiKmh0dHBzOi8vbmV3cy5lYmMubmV0LnR3L25ld3MvaGVhbHRoLzM0NDYzMNIBJ2h0dHBzOi8vbmV3cy5lYmMubmV0LnR3L25ld3MvYW1wLzM0NDYzMA?hl=zh-TW&amp;gl=TW&amp;ceid=TW%3Azh-Hant\">維生素D攝取未達一定劑量 研究：死亡風險恐高出36%</a></h3>, <h3 class=\"ipQwMb ekueJc RD0gLb\"><a class=\"DY5T1d RZIKme\" href=\"./articles/CBMi6AFodHRwczovL3R3Lm5ld3MueWFob28uY29tLyVFNSU5MCVCOCVFNSU4NSVBNSVFNiU4MCVBNyVFOCU4MiVCQSVFNyU4MiU4RSVFOSU4MSU4RSVFNSU4RCU4QSVFNiU5OCVBRiVFNSU5MCU5RSVFNSU5QSVBNSVFNSU5QiVCMCVFOSU5QiVBMyVFNiU4OSU4MCVFOCU4NyVCNC04JUU5JUEwJTg1JUU4JUFEJUE2JUU4JUE4JThBJUU4JTg3JUFBJUU2JTg4JTkxJUU2JUFBJUEyJUU4JUE2JTk2LTA3NTkzMzE4MC5odG1s0gHwAWh0dHBzOi8vdHcubmV3cy55YWhvby5jb20vYW1waHRtbC8lRTUlOTAlQjglRTUlODUlQTUlRTYlODAlQTclRTglODIlQkElRTclODIlOEUlRTklODElOEUlRTUlOEQlOEElRTYlOTglQUYlRTUlOTAlOUUlRTUlOUElQTUlRTUlOUIlQjAlRTklOUIlQTMlRTYlODklODAlRTglODclQjQtOCVFOSVBMCU4NSVFOCVBRCVBNiVFOCVBOCU4QSVFOCU4NyVBQSVFNiU4OCU5MSVFNiVBQSVBMiVFOCVBNiU5Ni0wNzU5MzMxODAuaHRtbA?hl=zh-TW&amp;gl=TW&amp;ceid=TW%3Azh-Hant\">吸入性肺炎過半是吞嚥困難所致，8項警訊自我檢視</a></h3>, <h3 class=\"ipQwMb ekueJc RD0gLb\"><a class=\"DY5T1d RZIKme\" href=\"./articles/CAIiELXzIw1imYUpzi6GPv84ZIEqMwgEKioIACIQKjSbCxZ138pETYj7wUdSVioUCAoiECo0mwsWdd_KRE2I-8FHUlYw0sXIBg?uo=CAUiNGh0dHBzOi8vd3d3LmVwb2NodGltZXMuY29tL2I1LzIyLzExLzE2L24xMzg2Njk0OS5odG3SAQA&amp;hl=zh-TW&amp;gl=TW&amp;ceid=TW%3Azh-Hant\">呼吸道病童激增 華州兒科醫院陷危機</a></h3>, <h3 class=\"ipQwMb ekueJc RD0gLb\"><a class=\"DY5T1d RZIKme\" href=\"./articles/CBMiNGh0dHBzOi8vd3d3Lndvcmxkam91cm5hbC5jb20vd2ovc3RvcnkvMTIxMjQwLzY3NjAyNjnSAThodHRwczovL3d3dy53b3JsZGpvdXJuYWwuY29tL3dqL2FtcC9zdG9yeS8xMjEyNDAvNjc2MDI2OQ?hl=zh-TW&amp;gl=TW&amp;ceid=TW%3Azh-Hant\">想維持少女感 養成減齡5習慣</a></h3>, <h3 class=\"ipQwMb ekueJc RD0gLb\"><a class=\"DY5T1d RZIKme\" href=\"./articles/CBMiNGh0dHBzOi8vd3d3Lndvcmxkam91cm5hbC5jb20vd2ovc3RvcnkvMTIyOTg0LzY3Njc4NTTSAThodHRwczovL3d3dy53b3JsZGpvdXJuYWwuY29tL3dqL2FtcC9zdG9yeS8xMjI5ODQvNjc2Nzg1NA?hl=zh-TW&amp;gl=TW&amp;ceid=TW%3Azh-Hant\">這些都是心臟病的「隱形跡象」 預防要趁早</a></h3>, <h3 class=\"ipQwMb ekueJc RD0gLb\"><a class=\"DY5T1d RZIKme\" href=\"./articles/CBMiuQNodHRwczovL3NreXBvc3QudWxpZmVzdHlsZS5jb20uaGsvYXJ0aWNsZS8zNDAwNDA0LyVFNyU5NCU5RiVFNSU5MSVCRCVFOSVBQyVBNSVFNSVBMyVBQiVFRiVCOCVCMyVFNSU4OCU4NiVFNCVCQSVBQlNoZWxkb24lRTclOTQlOUYlRTUlODklOEQlRTclODklODclRTYlQUUlQjUlMjAlRTglODIlOUElRTclOTclQkUlRTklODElODclRTUlQkIlODElRTYlODklODAlRTclQjYlQUQlRTQlQkYlQUUlRTMlODAlOEMlRTUlQUMlQjIlRTUlQUMlQjIlRTglQjElQUMlRTMlODAlOEQlRTUlOEIlODElRTUlOEYlQUYlRTYlODQlOUIlMjAlRTUlQUElQkQlRTUlQUElQkQlRUYlQkMlOUElRTUlOUIlOUUlRTclOUMlOEIlRTQlQkIlOTYlRTclOTQlOUYlRTYlQjQlQkIlRTklQkIlOUUlRTYlQkIlQjQlRTclQjglQkQlRTQlQkIlQTQlRTYlODglOTElRTclOTQlOUMlRTclQjUlQjIlRTclQjUlQjLSAQA?hl=zh-TW&amp;gl=TW&amp;ceid=TW%3Azh-Hant\">生命鬥士︳分享Sheldon生前片段肚痾遇廁所維修「嬲嬲豬」勁可愛媽媽：回看他生活點滴總令我甜絲絲- 晴報- 健康- 腫瘤及癌症</a></h3>, <h3 class=\"ipQwMb ekueJc RD0gLb\"><a class=\"DY5T1d RZIKme\" href=\"./articles/CBMiXGh0dHBzOi8vaGsub24uY2MvaGsvYmtuL2NudC9lbnRlcnRhaW5tZW50LzIwMjIxMTE2L2Jrbi0yMDIyMTExNjExMDA0OTU2Mi0xMTE2XzAwODYyXzAwMS5odG1s0gEA?hl=zh-TW&amp;gl=TW&amp;ceid=TW%3Azh-Hant\">鋼琴老師確診休息康復後患上媽媽手</a></h3>, <h3 class=\"ipQwMb ekueJc RD0gLb\"><a class=\"DY5T1d RZIKme\" href=\"./articles/CBMiN2h0dHBzOi8vd3d3LmV0bmV0LmNvbS5oay9tb2JpbGUvdGMvaGVhbHRoL2hvdDEwL0xBODE0NjbSAQA?hl=zh-TW&amp;gl=TW&amp;ceid=TW%3Azh-Hant\">秋天蕁麻疹| 痕到死！風疹分急性慢性，可大可小！初發飲「加料」竹蔗茅根水滋陰清熱、紫蘇薑茶袪風解表！慢性蕁麻疹飲這款湯（附食譜）-健康好人生-健康好人生Health-ET Net Mobile</a></h3>, <h3 class=\"ipQwMb ekueJc RD0gLb\"><a class=\"DY5T1d RZIKme\" href=\"./articles/CBMiuQJodHRwczovL2hkLnN0aGVhZGxpbmUuY29tL2xpZmUvaGVhbHRoLzIwMjIxMTE2LzQxNDQ3MTUvJUU3JTk0JTlGJUU2JUI0JUJCJUU2JUI2JTg4JUU4JUIyJUJCLWhlYWx0aC0lRTklQTYlOTklRTYlQjglQUYlRTglQkYlOTElRTYlOUMlOUZISVYlRTYlODQlOUYlRTYlOUYlOTMlRTklQTIlQTglRTklOUElQUElRTQlQjglOEElRTUlOEQlODctJUU1JThGJUFGJUU5JTlEJUEwSElWJUU4JTg3JUFBJUU2JTg4JTkxJUU2JUFBJUEyJUU2JUI4JUFDJUU1JThBJUE5JUU2JTlCJUI0JUU1JUJGJUFCJUU3JUFGJUE5JUU2JTlGJUE1JUU2JTgyJUEzJUU4JTgwJTg10gEA?hl=zh-TW&amp;gl=TW&amp;ceid=TW%3Azh-Hant\">香港近期HIV感染風險上升可靠HIV自我檢測助更快篩查患者</a></h3>, <h3 class=\"ipQwMb ekueJc RD0gLb\"><a class=\"DY5T1d RZIKme\" href=\"./articles/CBMi0QJodHRwczovL3RvcGljay5oa2V0LmNvbS9hcnRpY2xlLzMzOTk3NTkvJUUzJTgwJTkwJUU0JUI4JThEJUU5JTlCJUEyJUU0JUI4JThEJUU2JUEzJTg0JUUzJTgwJTkxJUU2JTlDJUFBJUU1JUE5JTlBJUU1JUE0JUFCJUU2JTgyJUEzJUU2JTlDJUFCJUU2JTlDJTlGJUU3JTk5JThDJUU3JTk3JTg3JUU5JTlCJTk5JUU4JTg1JUIzJUU3JTg0JUExJUU2JUIzJTk1JUU1JUJEJThFJUU2JTlCJUIyJUUzJTgwJTgwJUU1JUE1JUIzJUU1JUFEJTkwJUU1JUEwJTg1JUU2JThDJTgxJUU4JTg4JTg5JUU4JUExJThDJUU1JUE5JTlBJUU3JUE2JUFFJUU5JTk5JUFBJUU0JUJDJUI0JUU2JThBJTk3JUU3JTk5JThD0gEA?hl=zh-TW&amp;gl=TW&amp;ceid=TW%3Azh-Hant\">【不離不棄】未婚夫患末期癌症雙腳無法彎曲女子堅持舉行婚禮陪伴抗癌- 香港經濟日報- TOPick - 親子- 育兒經</a></h3>, <h3 class=\"ipQwMb ekueJc RD0gLb\"><a class=\"DY5T1d RZIKme\" href=\"./articles/CBMi3wJodHRwczovL3RvcGljay5oa2V0LmNvbS9hcnRpY2xlLzMzOTk3NTYvJUUzJTgwJTkwJUU3JTk5JThDJUU3JTk3JTg3JUU2JUFFJUJBJUU2JTg5JThCJUUzJTgwJTkxMzAlRTUlQTQlOUElRTYlQUQlQjIlRTYlQjglQUYlRTUlQTUlQjMlRTQlQjglOEQlRTYlOTglOEUlRTYlQjYlODglRTclOTglQTYlRTclOTklQkMlRTclODclOTIlRTYlOEYlQUQlRTYlODIlQTM0JUU2JTlDJTlGJUU2JUI3JThCJUU1JUI3JUI0JUU3JTk5JThDJUUzJTgwJTgwJUU5JTg2JUFCJUU3JTk0JTlGJUU4JUE3JUEzJUU2JUE3JThCNiVFNSVBNCVBNyVFNSU4NSU4OCVFNSU4NSU4Ni0lRTglQTglQkElRTYlOTYlQjclRTYlOTYlQjklRTUlQkMlOEbSAQA?hl=zh-TW&amp;gl=TW&amp;ceid=TW%3Azh-Hant\">【癌症殺手】30多歲港女不明消瘦發燒揭患4期淋巴癌醫生解構6大先兆+診斷方式- 香港經濟日報- TOPick - 健康- 醫生診症室</a></h3>, <h3 class=\"ipQwMb ekueJc RD0gLb\"><a class=\"DY5T1d RZIKme\" href=\"./articles/CBMilAFodHRwczovL2d1YW5nbWluZy5jb20ubXkvJUU4JUFCJUJFJUU1JUI4JThDJUU1JUIxJUIxJUVGJUJDJTlBJUU3JUFDJUFDNDUlRTYlQjUlODElRTglQTElOEMlRTclOTclODUlRTUlQUQlQjglRTklODAlQjEtJUU4JTlBJThBJUU3JTk3JTg3JUU1JUEyJTlFMS0z0gEA?hl=zh-TW&amp;gl=TW&amp;ceid=TW%3Azh-Hant\">諾希山：第45流行病學週蚊症增1.3%</a></h3>, <h3 class=\"ipQwMb ekueJc RD0gLb\"><a class=\"DY5T1d RZIKme\" href=\"./articles/CAIiEN-QaDGR5O2PlWCu-_u4N1wqMwgEKioIACIQ0pSHarZKwQrhiTqsgb_8hioUCAoiENKUh2q2SsEK4Yk6rIG__IYwucvZBg?uo=CAUi5wFodHRwczovL25ld3MubWluZ3Bhby5jb20vcG5zLyVFNyVCNiU5MyVFNiVCRiU5Ri9hcnRpY2xlLzIwMjIxMTE1L3MwMDAwNC8xNjY4NDQ0NzM5MDM2LyVFNyU4NCVBMSVFNSU4OSVCNSVFNiVBQSVBMiVFNiVCOCVBQyVFMyU4MCU4QyVFOSU5OCVCRiVFOCU4QyVCMiVFNiVCNSVCNyVFOSVCQiU5OCVFNyU5NyU4NyVFMyU4MCU4RC0lRTYlOEElODAlRTglQTElOTMlRTglQjYlQTglRTYlODglOTAlRTclODYlOUbSAQA&amp;hl=zh-TW&amp;gl=TW&amp;ceid=TW%3Azh-Hant\">無創檢測「阿茲海默症」 技術趨成熟- 20221115 - 經濟</a></h3>, <h3 class=\"ipQwMb ekueJc RD0gLb\"><a class=\"DY5T1d RZIKme\" href=\"./articles/CBMixAJodHRwczovL3NreXBvc3QudWxpZmVzdHlsZS5jb20uaGsvYXJ0aWNsZS8zMzk4NzA2LyVFNyU5NiVBQiVFNSVCRSU4QyVFOSVBQiU5NCVFOCU4MyVCRCVFRiVCOCVCMyVFMyU4MCU4QyVFOSU5NSVCNyVFNiU5NiVCMCVFNSU4NiVBMCVFMyU4MCU4RCVFNiU5OCU5MyVFNSU4MCVBNiVFNiVCMCVBMyVFNSU5NiU5OCVFNSVCRiU4MyVFOCU4MiVCQSVFNSVCNyVBRSUyMCVFNSVCMCU4OCVFNSVBRSVCNiVFNiU5NSU5OSVFNyU5NCVBOCVFNSVBRSVCNiVFNCVCOCVBRDglRTUlQTQlQTclRTYlOTclQTUlRTclOTQlQTglRTUlOTMlODElRTUlOEElQTklRTUlODElQTUlRTglQkElQULSAQA?hl=zh-TW&amp;gl=TW&amp;ceid=TW%3Azh-Hant\">疫後體能︳「長新冠」易倦氣喘心肺差專家教用家中8大日用品助健身- 晴報- 健康- 飲食與運動</a></h3>]\n"
     ]
    }
   ],
   "source": [
    "title = soup.find_all('h3',class_='ipQwMb ekueJc RD0gLb')\n",
    "print(title)"
   ]
  },
  {
   "cell_type": "code",
   "execution_count": 3,
   "id": "97d9ffde",
   "metadata": {},
   "outputs": [
    {
     "data": {
      "text/plain": [
       "['估2050全美1300萬人罹患阿茲海默症！專家認證「1飲食模式」防失智',\n",
       " '不想看精神科如何治療ADHD？過來人分享治療過動症經驗',\n",
       " '你被“全麥麵包”套路過嗎？如何選全麥百分百的麵包',\n",
       " '「肉類vs.豆類」蛋白質誰更好？營養師解答 吃這1種不脹氣',\n",
       " '三餐這樣吃才健康 常見營養4大問一定要知道',\n",
       " '蘋果好處多但要小心脂肪肝！蘋果油油的是塗蠟嗎？3招分辨天然/人工蠟',\n",
       " '染新冠年輕族易腦霧、高危險群長者恐失智醫籲3方式助腦新生｜元氣網',\n",
       " '膽固醇是甚麼？好膽固醇過量攝取亦有害',\n",
       " '日本研究：工作老出錯嗎？看看是不是成人多動症',\n",
       " '美研究：女性睡好覺可提高事業心！與情緒控管有關',\n",
       " '鼻塞怎麼通？確診後出現延遲性嗅覺喪失？3穴位按摩3分鐘 舒緩嗅覺障礙',\n",
       " '一直好累看哪科？「4問題」幫你篩選科別！隔薑灸「消炎3穴」調理慢性疲勞',\n",
       " '蜜蜂消失的真正原因？研究：50 年來蜜蜂壽命減半',\n",
       " '別再害怕曬太陽 醫揭3大好處 有效改善失眠',\n",
       " '八成感冒來自病毒感染 一週內症狀未緩解須注意',\n",
       " '發現肛門長了痘痘？醫警告應盡快就醫檢查| 名家',\n",
       " '血液葉酸濃度與憂鬱症有關 攝取1營養素可減自殺風險 | NOW健康 | LINE TODAY',\n",
       " '英研究：兒童及青少年因染疫死亡較少，多與原先潛在健康問題有關',\n",
       " '維生素D攝取未達一定劑量 研究：死亡風險恐高出36%',\n",
       " '吸入性肺炎過半是吞嚥困難所致，8項警訊自我檢視',\n",
       " '呼吸道病童激增 華州兒科醫院陷危機',\n",
       " '想維持少女感 養成減齡5習慣',\n",
       " '這些都是心臟病的「隱形跡象」 預防要趁早',\n",
       " '生命鬥士︳分享Sheldon生前片段肚痾遇廁所維修「嬲嬲豬」勁可愛媽媽：回看他生活點滴總令我甜絲絲- 晴報- 健康- 腫瘤及癌症',\n",
       " '鋼琴老師確診休息康復後患上媽媽手',\n",
       " '秋天蕁麻疹| 痕到死！風疹分急性慢性，可大可小！初發飲「加料」竹蔗茅根水滋陰清熱、紫蘇薑茶袪風解表！慢性蕁麻疹飲這款湯（附食譜）-健康好人生-健康好人生Health-ET Net Mobile',\n",
       " '香港近期HIV感染風險上升可靠HIV自我檢測助更快篩查患者',\n",
       " '【不離不棄】未婚夫患末期癌症雙腳無法彎曲女子堅持舉行婚禮陪伴抗癌- 香港經濟日報- TOPick - 親子- 育兒經',\n",
       " '【癌症殺手】30多歲港女不明消瘦發燒揭患4期淋巴癌醫生解構6大先兆+診斷方式- 香港經濟日報- TOPick - 健康- 醫生診症室',\n",
       " '諾希山：第45流行病學週蚊症增1.3%',\n",
       " '無創檢測「阿茲海默症」 技術趨成熟- 20221115 - 經濟',\n",
       " '疫後體能︳「長新冠」易倦氣喘心肺差專家教用家中8大日用品助健身- 晴報- 健康- 飲食與運動']"
      ]
     },
     "execution_count": 3,
     "metadata": {},
     "output_type": "execute_result"
    }
   ],
   "source": [
    "titles = [t.find('a class'==\"VDXfz\").text for t in title]\n",
    "titles"
   ]
  },
  {
   "cell_type": "code",
   "execution_count": 10,
   "id": "8dbcd0e3",
   "metadata": {},
   "outputs": [
    {
     "data": {
      "text/plain": [
       "['https://news.ttv.com.tw/news/11111160004200W',\n",
       " 'https://www.healingdaily.com.tw/articles/%E5%A6%82%E4%BD%95%E6%B2%BB%E7%99%82ADHD-%E8%BA%AB%E5%BF%83%E7%96%BE%E7%97%85/',\n",
       " 'https://www.soundofhope.org/post/668466?lang=b5',\n",
       " 'https://health.ettoday.net/news/2379079',\n",
       " 'https://www.ntdtv.com/b5/2022/11/16/a103575978.html',\n",
       " 'https://www.healingdaily.com.tw/articles/%E8%98%8B%E6%9E%9C%E5%A5%BD%E8%99%95-%E9%A3%9F%E7%89%A9%E7%87%9F%E9%A4%8A/',\n",
       " 'https://health.udn.com/health/story/10696/6770083?from=udn-catenewnews_ch1005',\n",
       " 'https://www.youtube.com/watch?v=8RWGBeV9kLw',\n",
       " 'https://www.soundofhope.org/post/669456?lang=b5',\n",
       " 'https://www.soundofhope.org/post/668016?lang=b5',\n",
       " 'https://health.tvbs.com.tw/review/336243',\n",
       " 'https://health.tvbs.com.tw/review/336233',\n",
       " 'https://technews.tw/2022/11/15/bees-lifespan-less-than-half-in-50-years/',\n",
       " 'https://www.chinatimes.com/realtimenews/20221115003726-260418',\n",
       " 'https://www.epochtimes.com/b5/22/11/15/n13866464.htm',\n",
       " 'https://www.setn.com/News.aspx?NewsID=1208215',\n",
       " 'https://today.line.me/tw/v2/article/MLeDNMV',\n",
       " 'https://www.soundofhope.org/post/670113?lang=b5',\n",
       " 'https://news.ebc.net.tw/news/health/344630',\n",
       " 'https://tw.news.yahoo.com/%E5%90%B8%E5%85%A5%E6%80%A7%E8%82%BA%E7%82%8E%E9%81%8E%E5%8D%8A%E6%98%AF%E5%90%9E%E5%9A%A5%E5%9B%B0%E9%9B%A3%E6%89%80%E8%87%B4-8%E9%A0%85%E8%AD%A6%E8%A8%8A%E8%87%AA%E6%88%91%E6%AA%A2%E8%A6%96-075933180.html',\n",
       " 'https://www.epochtimes.com/b5/22/11/16/n13866949.htm',\n",
       " 'https://www.worldjournal.com/wj/story/121240/6760269',\n",
       " 'https://www.worldjournal.com/wj/story/122984/6767854',\n",
       " 'https://skypost.ulifestyle.com.hk/article/3400404/%E7%94%9F%E5%91%BD%E9%AC%A5%E5%A3%AB%EF%B8%B3%E5%88%86%E4%BA%ABSheldon%E7%94%9F%E5%89%8D%E7%89%87%E6%AE%B5%20%E8%82%9A%E7%97%BE%E9%81%87%E5%BB%81%E6%89%80%E7%B6%AD%E4%BF%AE%E3%80%8C%E5%AC%B2%E5%AC%B2%E8%B1%AC%E3%80%8D%E5%8B%81%E5%8F%AF%E6%84%9B%20%E5%AA%BD%E5%AA%BD%EF%BC%9A%E5%9B%9E%E7%9C%8B%E4%BB%96%E7%94%9F%E6%B4%BB%E9%BB%9E%E6%BB%B4%E7%B8%BD%E4%BB%A4%E6%88%91%E7%94%9C%E7%B5%B2%E7%B5%B2',\n",
       " 'https://hk.on.cc/hk/bkn/cnt/entertainment/20221116/bkn-20221116110049562-1116_00862_001.html',\n",
       " 'https://www.etnet.com.hk/mobile/tc/health/hot10/LA81466',\n",
       " 'https://hd.stheadline.com/life/health/20221116/4144715/%E7%94%9F%E6%B4%BB%E6%B6%88%E8%B2%BB-health-%E9%A6%99%E6%B8%AF%E8%BF%91%E6%9C%9FHIV%E6%84%9F%E6%9F%93%E9%A2%A8%E9%9A%AA%E4%B8%8A%E5%8D%87-%E5%8F%AF%E9%9D%A0HIV%E8%87%AA%E6%88%91%E6%AA%A2%E6%B8%AC%E5%8A%A9%E6%9B%B4%E5%BF%AB%E7%AF%A9%E6%9F%A5%E6%82%A3%E8%80%85',\n",
       " 'https://topick.hket.com/article/3399759/%E3%80%90%E4%B8%8D%E9%9B%A2%E4%B8%8D%E6%A3%84%E3%80%91%E6%9C%AA%E5%A9%9A%E5%A4%AB%E6%82%A3%E6%9C%AB%E6%9C%9F%E7%99%8C%E7%97%87%E9%9B%99%E8%85%B3%E7%84%A1%E6%B3%95%E5%BD%8E%E6%9B%B2%E3%80%80%E5%A5%B3%E5%AD%90%E5%A0%85%E6%8C%81%E8%88%89%E8%A1%8C%E5%A9%9A%E7%A6%AE%E9%99%AA%E4%BC%B4%E6%8A%97%E7%99%8C',\n",
       " 'https://topick.hket.com/article/3399756/%E3%80%90%E7%99%8C%E7%97%87%E6%AE%BA%E6%89%8B%E3%80%9130%E5%A4%9A%E6%AD%B2%E6%B8%AF%E5%A5%B3%E4%B8%8D%E6%98%8E%E6%B6%88%E7%98%A6%E7%99%BC%E7%87%92%E6%8F%AD%E6%82%A34%E6%9C%9F%E6%B7%8B%E5%B7%B4%E7%99%8C%E3%80%80%E9%86%AB%E7%94%9F%E8%A7%A3%E6%A7%8B6%E5%A4%A7%E5%85%88%E5%85%86-%E8%A8%BA%E6%96%B7%E6%96%B9%E5%BC%8F',\n",
       " 'https://guangming.com.my/%E8%AB%BE%E5%B8%8C%E5%B1%B1%EF%BC%9A%E7%AC%AC45%E6%B5%81%E8%A1%8C%E7%97%85%E5%AD%B8%E9%80%B1-%E8%9A%8A%E7%97%87%E5%A2%9E1-3',\n",
       " 'https://news.mingpao.com/pns/%E7%B6%93%E6%BF%9F/article/20221115/s00004/1668444739036/%E7%84%A1%E5%89%B5%E6%AA%A2%E6%B8%AC%E3%80%8C%E9%98%BF%E8%8C%B2%E6%B5%B7%E9%BB%98%E7%97%87%E3%80%8D-%E6%8A%80%E8%A1%93%E8%B6%A8%E6%88%90%E7%86%9F',\n",
       " 'https://skypost.ulifestyle.com.hk/article/3398706/%E7%96%AB%E5%BE%8C%E9%AB%94%E8%83%BD%EF%B8%B3%E3%80%8C%E9%95%B7%E6%96%B0%E5%86%A0%E3%80%8D%E6%98%93%E5%80%A6%E6%B0%A3%E5%96%98%E5%BF%83%E8%82%BA%E5%B7%AE%20%E5%B0%88%E5%AE%B6%E6%95%99%E7%94%A8%E5%AE%B6%E4%B8%AD8%E5%A4%A7%E6%97%A5%E7%94%A8%E5%93%81%E5%8A%A9%E5%81%A5%E8%BA%AB']"
      ]
     },
     "execution_count": 10,
     "metadata": {},
     "output_type": "execute_result"
    }
   ],
   "source": [
    "newUrls = [requests.get(t.find('a')['href'].replace('.','https://news.google.com',1)).url for t in title]\n",
    "newUrls"
   ]
  },
  {
   "cell_type": "code",
   "execution_count": 11,
   "id": "d0c1aa2f",
   "metadata": {},
   "outputs": [
    {
     "data": {
      "text/html": [
       "<div>\n",
       "<style scoped>\n",
       "    .dataframe tbody tr th:only-of-type {\n",
       "        vertical-align: middle;\n",
       "    }\n",
       "\n",
       "    .dataframe tbody tr th {\n",
       "        vertical-align: top;\n",
       "    }\n",
       "\n",
       "    .dataframe thead th {\n",
       "        text-align: right;\n",
       "    }\n",
       "</style>\n",
       "<table border=\"1\" class=\"dataframe\">\n",
       "  <thead>\n",
       "    <tr style=\"text-align: right;\">\n",
       "      <th></th>\n",
       "      <th>title</th>\n",
       "      <th>links</th>\n",
       "    </tr>\n",
       "  </thead>\n",
       "  <tbody>\n",
       "    <tr>\n",
       "      <th>0</th>\n",
       "      <td>估2050全美1300萬人罹患阿茲海默症！專家認證「1飲食模式」防失智</td>\n",
       "      <td>https://news.ttv.com.tw/news/11111160004200W</td>\n",
       "    </tr>\n",
       "    <tr>\n",
       "      <th>1</th>\n",
       "      <td>不想看精神科如何治療ADHD？過來人分享治療過動症經驗</td>\n",
       "      <td>https://www.healingdaily.com.tw/articles/%E5%A...</td>\n",
       "    </tr>\n",
       "    <tr>\n",
       "      <th>2</th>\n",
       "      <td>你被“全麥麵包”套路過嗎？如何選全麥百分百的麵包</td>\n",
       "      <td>https://www.soundofhope.org/post/668466?lang=b5</td>\n",
       "    </tr>\n",
       "    <tr>\n",
       "      <th>3</th>\n",
       "      <td>「肉類vs.豆類」蛋白質誰更好？營養師解答 吃這1種不脹氣</td>\n",
       "      <td>https://health.ettoday.net/news/2379079</td>\n",
       "    </tr>\n",
       "    <tr>\n",
       "      <th>4</th>\n",
       "      <td>三餐這樣吃才健康 常見營養4大問一定要知道</td>\n",
       "      <td>https://www.ntdtv.com/b5/2022/11/16/a103575978...</td>\n",
       "    </tr>\n",
       "    <tr>\n",
       "      <th>5</th>\n",
       "      <td>蘋果好處多但要小心脂肪肝！蘋果油油的是塗蠟嗎？3招分辨天然/人工蠟</td>\n",
       "      <td>https://www.healingdaily.com.tw/articles/%E8%9...</td>\n",
       "    </tr>\n",
       "    <tr>\n",
       "      <th>6</th>\n",
       "      <td>染新冠年輕族易腦霧、高危險群長者恐失智醫籲3方式助腦新生｜元氣網</td>\n",
       "      <td>https://health.udn.com/health/story/10696/6770...</td>\n",
       "    </tr>\n",
       "    <tr>\n",
       "      <th>7</th>\n",
       "      <td>膽固醇是甚麼？好膽固醇過量攝取亦有害</td>\n",
       "      <td>https://www.youtube.com/watch?v=8RWGBeV9kLw</td>\n",
       "    </tr>\n",
       "    <tr>\n",
       "      <th>8</th>\n",
       "      <td>日本研究：工作老出錯嗎？看看是不是成人多動症</td>\n",
       "      <td>https://www.soundofhope.org/post/669456?lang=b5</td>\n",
       "    </tr>\n",
       "    <tr>\n",
       "      <th>9</th>\n",
       "      <td>美研究：女性睡好覺可提高事業心！與情緒控管有關</td>\n",
       "      <td>https://www.soundofhope.org/post/668016?lang=b5</td>\n",
       "    </tr>\n",
       "    <tr>\n",
       "      <th>10</th>\n",
       "      <td>鼻塞怎麼通？確診後出現延遲性嗅覺喪失？3穴位按摩3分鐘 舒緩嗅覺障礙</td>\n",
       "      <td>https://health.tvbs.com.tw/review/336243</td>\n",
       "    </tr>\n",
       "    <tr>\n",
       "      <th>11</th>\n",
       "      <td>一直好累看哪科？「4問題」幫你篩選科別！隔薑灸「消炎3穴」調理慢性疲勞</td>\n",
       "      <td>https://health.tvbs.com.tw/review/336233</td>\n",
       "    </tr>\n",
       "    <tr>\n",
       "      <th>12</th>\n",
       "      <td>蜜蜂消失的真正原因？研究：50 年來蜜蜂壽命減半</td>\n",
       "      <td>https://technews.tw/2022/11/15/bees-lifespan-l...</td>\n",
       "    </tr>\n",
       "    <tr>\n",
       "      <th>13</th>\n",
       "      <td>別再害怕曬太陽 醫揭3大好處 有效改善失眠</td>\n",
       "      <td>https://www.chinatimes.com/realtimenews/202211...</td>\n",
       "    </tr>\n",
       "    <tr>\n",
       "      <th>14</th>\n",
       "      <td>八成感冒來自病毒感染 一週內症狀未緩解須注意</td>\n",
       "      <td>https://www.epochtimes.com/b5/22/11/15/n138664...</td>\n",
       "    </tr>\n",
       "    <tr>\n",
       "      <th>15</th>\n",
       "      <td>發現肛門長了痘痘？醫警告應盡快就醫檢查| 名家</td>\n",
       "      <td>https://www.setn.com/News.aspx?NewsID=1208215</td>\n",
       "    </tr>\n",
       "    <tr>\n",
       "      <th>16</th>\n",
       "      <td>血液葉酸濃度與憂鬱症有關 攝取1營養素可減自殺風險 | NOW健康 | LINE TODAY</td>\n",
       "      <td>https://today.line.me/tw/v2/article/MLeDNMV</td>\n",
       "    </tr>\n",
       "    <tr>\n",
       "      <th>17</th>\n",
       "      <td>英研究：兒童及青少年因染疫死亡較少，多與原先潛在健康問題有關</td>\n",
       "      <td>https://www.soundofhope.org/post/670113?lang=b5</td>\n",
       "    </tr>\n",
       "    <tr>\n",
       "      <th>18</th>\n",
       "      <td>維生素D攝取未達一定劑量 研究：死亡風險恐高出36%</td>\n",
       "      <td>https://news.ebc.net.tw/news/health/344630</td>\n",
       "    </tr>\n",
       "    <tr>\n",
       "      <th>19</th>\n",
       "      <td>吸入性肺炎過半是吞嚥困難所致，8項警訊自我檢視</td>\n",
       "      <td>https://tw.news.yahoo.com/%E5%90%B8%E5%85%A5%E...</td>\n",
       "    </tr>\n",
       "    <tr>\n",
       "      <th>20</th>\n",
       "      <td>呼吸道病童激增 華州兒科醫院陷危機</td>\n",
       "      <td>https://www.epochtimes.com/b5/22/11/16/n138669...</td>\n",
       "    </tr>\n",
       "    <tr>\n",
       "      <th>21</th>\n",
       "      <td>想維持少女感 養成減齡5習慣</td>\n",
       "      <td>https://www.worldjournal.com/wj/story/121240/6...</td>\n",
       "    </tr>\n",
       "    <tr>\n",
       "      <th>22</th>\n",
       "      <td>這些都是心臟病的「隱形跡象」 預防要趁早</td>\n",
       "      <td>https://www.worldjournal.com/wj/story/122984/6...</td>\n",
       "    </tr>\n",
       "    <tr>\n",
       "      <th>23</th>\n",
       "      <td>生命鬥士︳分享Sheldon生前片段肚痾遇廁所維修「嬲嬲豬」勁可愛媽媽：回看他生活點滴總令我...</td>\n",
       "      <td>https://skypost.ulifestyle.com.hk/article/3400...</td>\n",
       "    </tr>\n",
       "    <tr>\n",
       "      <th>24</th>\n",
       "      <td>鋼琴老師確診休息康復後患上媽媽手</td>\n",
       "      <td>https://hk.on.cc/hk/bkn/cnt/entertainment/2022...</td>\n",
       "    </tr>\n",
       "    <tr>\n",
       "      <th>25</th>\n",
       "      <td>秋天蕁麻疹| 痕到死！風疹分急性慢性，可大可小！初發飲「加料」竹蔗茅根水滋陰清熱、紫蘇薑茶袪...</td>\n",
       "      <td>https://www.etnet.com.hk/mobile/tc/health/hot1...</td>\n",
       "    </tr>\n",
       "    <tr>\n",
       "      <th>26</th>\n",
       "      <td>香港近期HIV感染風險上升可靠HIV自我檢測助更快篩查患者</td>\n",
       "      <td>https://hd.stheadline.com/life/health/20221116...</td>\n",
       "    </tr>\n",
       "    <tr>\n",
       "      <th>27</th>\n",
       "      <td>【不離不棄】未婚夫患末期癌症雙腳無法彎曲女子堅持舉行婚禮陪伴抗癌- 香港經濟日報- TOPi...</td>\n",
       "      <td>https://topick.hket.com/article/3399759/%E3%80...</td>\n",
       "    </tr>\n",
       "    <tr>\n",
       "      <th>28</th>\n",
       "      <td>【癌症殺手】30多歲港女不明消瘦發燒揭患4期淋巴癌醫生解構6大先兆+診斷方式- 香港經濟日報...</td>\n",
       "      <td>https://topick.hket.com/article/3399756/%E3%80...</td>\n",
       "    </tr>\n",
       "    <tr>\n",
       "      <th>29</th>\n",
       "      <td>諾希山：第45流行病學週蚊症增1.3%</td>\n",
       "      <td>https://guangming.com.my/%E8%AB%BE%E5%B8%8C%E5...</td>\n",
       "    </tr>\n",
       "    <tr>\n",
       "      <th>30</th>\n",
       "      <td>無創檢測「阿茲海默症」 技術趨成熟- 20221115 - 經濟</td>\n",
       "      <td>https://news.mingpao.com/pns/%E7%B6%93%E6%BF%9...</td>\n",
       "    </tr>\n",
       "    <tr>\n",
       "      <th>31</th>\n",
       "      <td>疫後體能︳「長新冠」易倦氣喘心肺差專家教用家中8大日用品助健身- 晴報- 健康- 飲食與運動</td>\n",
       "      <td>https://skypost.ulifestyle.com.hk/article/3398...</td>\n",
       "    </tr>\n",
       "  </tbody>\n",
       "</table>\n",
       "</div>"
      ],
      "text/plain": [
       "                                                title  \\\n",
       "0                 估2050全美1300萬人罹患阿茲海默症！專家認證「1飲食模式」防失智   \n",
       "1                         不想看精神科如何治療ADHD？過來人分享治療過動症經驗   \n",
       "2                            你被“全麥麵包”套路過嗎？如何選全麥百分百的麵包   \n",
       "3                       「肉類vs.豆類」蛋白質誰更好？營養師解答 吃這1種不脹氣   \n",
       "4                               三餐這樣吃才健康 常見營養4大問一定要知道   \n",
       "5                   蘋果好處多但要小心脂肪肝！蘋果油油的是塗蠟嗎？3招分辨天然/人工蠟   \n",
       "6                    染新冠年輕族易腦霧、高危險群長者恐失智醫籲3方式助腦新生｜元氣網   \n",
       "7                                  膽固醇是甚麼？好膽固醇過量攝取亦有害   \n",
       "8                              日本研究：工作老出錯嗎？看看是不是成人多動症   \n",
       "9                             美研究：女性睡好覺可提高事業心！與情緒控管有關   \n",
       "10                 鼻塞怎麼通？確診後出現延遲性嗅覺喪失？3穴位按摩3分鐘 舒緩嗅覺障礙   \n",
       "11                一直好累看哪科？「4問題」幫你篩選科別！隔薑灸「消炎3穴」調理慢性疲勞   \n",
       "12                           蜜蜂消失的真正原因？研究：50 年來蜜蜂壽命減半   \n",
       "13                              別再害怕曬太陽 醫揭3大好處 有效改善失眠   \n",
       "14                             八成感冒來自病毒感染 一週內症狀未緩解須注意   \n",
       "15                            發現肛門長了痘痘？醫警告應盡快就醫檢查| 名家   \n",
       "16     血液葉酸濃度與憂鬱症有關 攝取1營養素可減自殺風險 | NOW健康 | LINE TODAY   \n",
       "17                     英研究：兒童及青少年因染疫死亡較少，多與原先潛在健康問題有關   \n",
       "18                         維生素D攝取未達一定劑量 研究：死亡風險恐高出36%   \n",
       "19                            吸入性肺炎過半是吞嚥困難所致，8項警訊自我檢視   \n",
       "20                                  呼吸道病童激增 華州兒科醫院陷危機   \n",
       "21                                     想維持少女感 養成減齡5習慣   \n",
       "22                               這些都是心臟病的「隱形跡象」 預防要趁早   \n",
       "23  生命鬥士︳分享Sheldon生前片段肚痾遇廁所維修「嬲嬲豬」勁可愛媽媽：回看他生活點滴總令我...   \n",
       "24                                   鋼琴老師確診休息康復後患上媽媽手   \n",
       "25  秋天蕁麻疹| 痕到死！風疹分急性慢性，可大可小！初發飲「加料」竹蔗茅根水滋陰清熱、紫蘇薑茶袪...   \n",
       "26                      香港近期HIV感染風險上升可靠HIV自我檢測助更快篩查患者   \n",
       "27  【不離不棄】未婚夫患末期癌症雙腳無法彎曲女子堅持舉行婚禮陪伴抗癌- 香港經濟日報- TOPi...   \n",
       "28  【癌症殺手】30多歲港女不明消瘦發燒揭患4期淋巴癌醫生解構6大先兆+診斷方式- 香港經濟日報...   \n",
       "29                                諾希山：第45流行病學週蚊症增1.3%   \n",
       "30                   無創檢測「阿茲海默症」 技術趨成熟- 20221115 - 經濟   \n",
       "31     疫後體能︳「長新冠」易倦氣喘心肺差專家教用家中8大日用品助健身- 晴報- 健康- 飲食與運動   \n",
       "\n",
       "                                                links  \n",
       "0        https://news.ttv.com.tw/news/11111160004200W  \n",
       "1   https://www.healingdaily.com.tw/articles/%E5%A...  \n",
       "2     https://www.soundofhope.org/post/668466?lang=b5  \n",
       "3             https://health.ettoday.net/news/2379079  \n",
       "4   https://www.ntdtv.com/b5/2022/11/16/a103575978...  \n",
       "5   https://www.healingdaily.com.tw/articles/%E8%9...  \n",
       "6   https://health.udn.com/health/story/10696/6770...  \n",
       "7         https://www.youtube.com/watch?v=8RWGBeV9kLw  \n",
       "8     https://www.soundofhope.org/post/669456?lang=b5  \n",
       "9     https://www.soundofhope.org/post/668016?lang=b5  \n",
       "10           https://health.tvbs.com.tw/review/336243  \n",
       "11           https://health.tvbs.com.tw/review/336233  \n",
       "12  https://technews.tw/2022/11/15/bees-lifespan-l...  \n",
       "13  https://www.chinatimes.com/realtimenews/202211...  \n",
       "14  https://www.epochtimes.com/b5/22/11/15/n138664...  \n",
       "15      https://www.setn.com/News.aspx?NewsID=1208215  \n",
       "16        https://today.line.me/tw/v2/article/MLeDNMV  \n",
       "17    https://www.soundofhope.org/post/670113?lang=b5  \n",
       "18         https://news.ebc.net.tw/news/health/344630  \n",
       "19  https://tw.news.yahoo.com/%E5%90%B8%E5%85%A5%E...  \n",
       "20  https://www.epochtimes.com/b5/22/11/16/n138669...  \n",
       "21  https://www.worldjournal.com/wj/story/121240/6...  \n",
       "22  https://www.worldjournal.com/wj/story/122984/6...  \n",
       "23  https://skypost.ulifestyle.com.hk/article/3400...  \n",
       "24  https://hk.on.cc/hk/bkn/cnt/entertainment/2022...  \n",
       "25  https://www.etnet.com.hk/mobile/tc/health/hot1...  \n",
       "26  https://hd.stheadline.com/life/health/20221116...  \n",
       "27  https://topick.hket.com/article/3399759/%E3%80...  \n",
       "28  https://topick.hket.com/article/3399756/%E3%80...  \n",
       "29  https://guangming.com.my/%E8%AB%BE%E5%B8%8C%E5...  \n",
       "30  https://news.mingpao.com/pns/%E7%B6%93%E6%BF%9...  \n",
       "31  https://skypost.ulifestyle.com.hk/article/3398...  "
      ]
     },
     "execution_count": 11,
     "metadata": {},
     "output_type": "execute_result"
    }
   ],
   "source": [
    "df = pd.DataFrame(\n",
    "{\n",
    "    'title': titles,\n",
    "    'links': newUrls\n",
    "})\n",
    " \n",
    "df"
   ]
  },
  {
   "cell_type": "code",
   "execution_count": 12,
   "id": "0ca9cb16",
   "metadata": {},
   "outputs": [
    {
     "name": "stdout",
     "output_type": "stream",
     "text": [
      "https://news.ttv.com.tw/news/11111160004200W\n"
     ]
    }
   ],
   "source": [
    "url = df['links'][0]\n",
    "print(url)\n",
    "r = requests.get(url)\n",
    "web_content = r.text\n",
    "soup = BeautifulSoup(web_content,'lxml')"
   ]
  },
  {
   "cell_type": "code",
   "execution_count": 13,
   "id": "9cecbb81",
   "metadata": {},
   "outputs": [
    {
     "data": {
      "text/plain": [
       "[<p>過去，大家總是把地中海飲食和心血管疾病連結在一起，但《JAMA Network Open》上發表的新研究表明，地中海飲食也能對抗認知衰退和失智症。俗稱「失智症」的阿茲海默症，是目前最常見的神經退化性疾病之一，在美國有超過600萬人罹患阿茲海默症，預計到了2050年，這個數字將高達1300萬，因此如何預防顯得特別重要。</p>,\n",
       " <p>該研究針對6,000多名習慣地中海飲食的西班牙裔和拉丁裔人士進行調查，參與者完成了飲食評估，並接受兩次認知測試。其中，有35.8%的人較鬆散地遵循地中海飲食計畫，45.4%的人適度地堅持，其餘18.8%的人嚴格遵循飲食計劃。</p>,\n",
       " <p>研究人員發現，嚴格遵守地中海飲食計畫組，似乎有助於降低西班牙裔和拉丁裔罹患阿茲海默症的風險。營養師Danielle McAvoy指出，這些發現呼應其他研究的結果，並加強了健康與地中海飲食之間的關聯性，特別是對西班牙裔和拉丁裔的人。</p>,\n",
       " <p>另外，加州大學（UCLA）洛杉磯分校醫學中心的高級臨床營養師、加州大學洛杉磯分校菲爾丁公共衛生學院的助理教授、同時也是《生存食譜》的作者Dana Ellis Hunnes 博士認為，也可以歸功於飲食的抗發炎作用帶來的好處。</p>,\n",
       " <p>有很多營養和流行病學研究表明，健康的飲食例如地中海飲食，是可以降低發炎的。想要減緩衰老和認知能力下降，最簡單的方法就是吃得健康、以植物為基礎，比如地中海飲食。</p>,\n",
       " <p>（常春月刊／編輯部整理、文章授權提供／<a href=\"https://healthmedia.com.tw/\">NOW健康</a>）</p>,\n",
       " <p><strong><span style=\"color: rgb(0, 64, 233);\">【延伸閱讀】</span></strong><span style=\"color: rgb(0, 64, 233);\"><br/></span><strong>．<a href=\"https://www.ttvc.com.tw/a-18696.html\">「地中海飲食」降血壓、降血脂還能防中風！ 營養師揭「5原則+1陷阱」</a><br/>．<a href=\"https://www.ttvc.com.tw/a-25992.html\">常懷疑另一半偷吃小心「早發性失智」上身！ 醫曝「罹病關鍵」：沒發現就太遲了</a></strong></p>]"
      ]
     },
     "execution_count": 13,
     "metadata": {},
     "output_type": "execute_result"
    }
   ],
   "source": [
    "articleContent = soup.find_all('p')\n",
    "articleContent"
   ]
  },
  {
   "cell_type": "code",
   "execution_count": 14,
   "id": "82ba1ee6",
   "metadata": {},
   "outputs": [],
   "source": [
    "# 將所有tag p中的text取出並放進list。\n",
    "article = []\n",
    "for p in articleContent:\n",
    "    article.append(p.text)"
   ]
  },
  {
   "cell_type": "code",
   "execution_count": 15,
   "id": "aa2bee55",
   "metadata": {},
   "outputs": [
    {
     "name": "stdout",
     "output_type": "stream",
     "text": [
      "過去，大家總是把地中海飲食和心血管疾病連結在一起，但《JAMA Network Open》上發表的新研究表明，地中海飲食也能對抗認知衰退和失智症。俗稱「失智症」的阿茲海默症，是目前最常見的神經退化性疾病之一，在美國有超過600萬人罹患阿茲海默症，預計到了2050年，這個數字將高達1300萬，因此如何預防顯得特別重要。\n",
      "該研究針對6,000多名習慣地中海飲食的西班牙裔和拉丁裔人士進行調查，參與者完成了飲食評估，並接受兩次認知測試。其中，有35.8%的人較鬆散地遵循地中海飲食計畫，45.4%的人適度地堅持，其餘18.8%的人嚴格遵循飲食計劃。\n",
      "研究人員發現，嚴格遵守地中海飲食計畫組，似乎有助於降低西班牙裔和拉丁裔罹患阿茲海默症的風險。營養師Danielle McAvoy指出，這些發現呼應其他研究的結果，並加強了健康與地中海飲食之間的關聯性，特別是對西班牙裔和拉丁裔的人。\n",
      "另外，加州大學（UCLA）洛杉磯分校醫學中心的高級臨床營養師、加州大學洛杉磯分校菲爾丁公共衛生學院的助理教授、同時也是《生存食譜》的作者Dana Ellis Hunnes 博士認為，也可以歸功於飲食的抗發炎作用帶來的好處。\n",
      "有很多營養和流行病學研究表明，健康的飲食例如地中海飲食，是可以降低發炎的。想要減緩衰老和認知能力下降，最簡單的方法就是吃得健康、以植物為基礎，比如地中海飲食。\n",
      "（常春月刊／編輯部整理、文章授權提供／NOW健康）\n",
      "【延伸閱讀】．「地中海飲食」降血壓、降血脂還能防中風！ 營養師揭「5原則+1陷阱」．常懷疑另一半偷吃小心「早發性失智」上身！ 醫曝「罹病關鍵」：沒發現就太遲了\n"
     ]
    }
   ],
   "source": [
    "articleAll = '\\n'.join(article)\n",
    "print(articleAll)"
   ]
  },
  {
   "cell_type": "code",
   "execution_count": 39,
   "id": "ed966c30",
   "metadata": {},
   "outputs": [],
   "source": [
    "import jieba\n",
    "import jieba.analyse\n",
    "import pandas as pd\n",
    "import numpy as np\n",
    "from collections import Counter"
   ]
  },
  {
   "cell_type": "code",
   "execution_count": 40,
   "id": "edc1f7ef",
   "metadata": {},
   "outputs": [
    {
     "name": "stdout",
     "output_type": "stream",
     "text": [
      "大家/總是/把/地中海/飲食/和/心血管/疾病/連結/在/一起\n"
     ]
    }
   ],
   "source": [
    "# 確認 Jieba 功能\n",
    "documents = ['大家總是把地中海飲食和心血管疾病連結在一起']\n",
    "# 精確模式\n",
    "for sentence in documents:\n",
    "    seg_list = jieba.cut(sentence)\n",
    "    print('/'.join(seg_list))"
   ]
  },
  {
   "cell_type": "code",
   "execution_count": 41,
   "id": "d3c8fbde",
   "metadata": {},
   "outputs": [
    {
     "name": "stdout",
     "output_type": "stream",
     "text": [
      "過去大家總是把地中海飲食和心血管疾病連結在一起但JAMA Network Open上發表的新研究表明地中海飲食也能對抗認知衰退和失智症俗稱失智症的阿茲海默症是目前最常見的神經退化性疾病之一在美國有超過600萬人罹患阿茲海默症預計到了2050年這個數字將高達1300萬因此如何預防顯得特別重要\n",
      "該研究針對6,000多名習慣地中海飲食的西班牙裔和拉丁裔人士進行調查參與者完成了飲食評估並接受兩次認知測試其中有35.8%的人較鬆散地遵循地中海飲食計畫45.4%的人適度地堅持其餘18.8%的人嚴格遵循飲食計劃\n",
      "研究人員發現嚴格遵守地中海飲食計畫組似乎有助於降低西班牙裔和拉丁裔罹患阿茲海默症的風險營養師Danielle McAvoy指出這些發現呼應其他研究的結果並加強了健康與地中海飲食之間的關聯性特別是對西班牙裔和拉丁裔的人\n",
      "另外加州大學UCLA洛杉磯分校醫學中心的高級臨床營養師加州大學洛杉磯分校菲爾丁公共衛生學院的助理教授同時也是生存食譜的作者Dana Ellis Hunnes 博士認為也可以歸功於飲食的抗發炎作用帶來的好處\n",
      "有很多營養和流行病學研究表明健康的飲食例如地中海飲食是可以降低發炎的想要減緩衰老和認知能力下降最簡單的方法就是吃得健康以植物為基礎比如地中海飲食\n",
      "常春月刊編輯部整理文章授權提供NOW健康\n",
      "【延伸閱讀】．地中海飲食降血壓降血脂還能防中風 營養師揭5原則+1陷阱．常懷疑另一半偷吃小心早發性失智上身 醫曝罹病關鍵沒發現就太遲了\n"
     ]
    }
   ],
   "source": [
    "d =articleAll.replace('[^\\w\\s]','').replace('／',\"\").replace('《','').replace('》','').replace('，','').replace('。','').replace('「','').replace('」','').replace('（','').replace('）','').replace('！','').replace('？','').replace('、','').replace('▲','').replace('…','').replace('：','')\n",
    "print(d)"
   ]
  },
  {
   "cell_type": "code",
   "execution_count": 42,
   "id": "a7997105",
   "metadata": {},
   "outputs": [],
   "source": [
    "jieba.setLogLevel(20)"
   ]
  },
  {
   "cell_type": "code",
   "execution_count": 43,
   "id": "3ea7cb17",
   "metadata": {
    "scrolled": true
   },
   "outputs": [
    {
     "name": "stdout",
     "output_type": "stream",
     "text": [
      "全模式: 過/ 去/ 大家/ 總/ 是/ 把/ 地中/ 地中海/ 中海/ 飲/ 食/ 和/ 心血/ 心血管/ 血管/ 疾病/ 連/ 結/ 在/ 一起/ 但/ JAMA/ /  / / Network/ /  / / Open/ 上/ 發/ 表/ 的/ 新/ 研究/ 表明/ 地中/ 地中海/ 中海/ 飲/ 食/ 也/ 能/ 對/ 抗/ 認/ 知/ 衰退/ 和/ 失/ 智/ 症/ 俗/ 稱/ 失/ 智/ 症/ 的/ 阿/ 茲/ 海/ 默/ 症/ 是/ 目前/ 最常/ 見/ 的/ 神/ 經/ 退化/ 化性/ 性疾病/ 疾病/ 之一/ 在/ 美/ 國/ 有/ 超/ 過/ 600/ 萬/ 人/ 罹患/ 阿/ 茲/ 海/ 默/ 症/ 預/ 計/ 到/ 了/ 2050/ 年/ 這/ 個/ 數/ 字/ 將/ 高/ 達/ 1300/ 萬/ 因此/ 如何/ 預/ 防/ 顯/ 得/ 特/ 別/ 重要/ / \n",
      "/ / 該/ 研究/ 針/ 對/ 6/ ,/ 000/ 多名/ 習/ 慣/ 地中/ 地中海/ 中海/ 飲/ 食/ 的/ 西班牙/ 裔/ 和/ 拉丁/ 裔/ 人士/ 進/ 行/ 調/ 查/ 參/ 與/ 者/ 完成/ 了/ 飲/ 食/ 評/ 估/ 並/ 接受/ 兩/ 次/ 認/ 知/ 測/ 試/ 其中/ 有/ 35/ ./ 8/ %/ 的/ 人/ 較/ 鬆/ 散/ 地/ 遵循/ 地中/ 地中海/ 中海/ 飲/ 食/ 計/ 畫/ 45/ ./ 4/ %/ 的/ 人/ 適/ 度/ 地/ 堅/ 持/ 其/ 餘/ 18/ ./ 8/ %/ 的/ 人/ 嚴/ 格/ 遵循/ 飲/ 食/ 計/ 劃/ / \n",
      "/ / 研究/ 人/ 員/ 發/ 現/ 嚴/ 格/ 遵守/ 地中/ 地中海/ 中海/ 飲/ 食/ 計/ 畫/ 組/ 似乎/ 有助/ 於/ 降低/ 西班牙/ 裔/ 和/ 拉丁/ 裔/ 罹患/ 阿/ 茲/ 海/ 默/ 症/ 的/ 風/ 險/ 營/ 養/ 師/ Danielle/ /  / / McAvoy/ 指出/ 這/ 些/ 發/ 現/ 呼/ 應/ 其他/ 研究/ 的/ 結/ 果/ 並/ 加/ 強/ 了/ 健康/ 與/ 地中/ 地中海/ 中海/ 飲/ 食/ 之/ 間/ 的/ 關/ 聯/ 性/ 特/ 別/ 是/ 對/ 西班牙/ 裔/ 和/ 拉丁/ 裔/ 的/ 人/ / \n",
      "/ / 另外/ 外加/ 加州/ 大/ 學/ UCLA/ 洛/ 杉/ 磯/ 分校/ 醫/ 學/ 中心/ 的/ 高/ 級/ 臨/ 床/ 營/ 養/ 師/ 加州/ 大/ 學/ 洛/ 杉/ 磯/ 分校/ 菲/ 爾/ 丁/ 公共/ 衛/ 生/ 學/ 院/ 的/ 助理/ 教授/ 同/ 時/ 也/ 是/ 生存/ 存食/ 譜/ 的/ 作者/ Dana/ /  / / Ellis/ /  / / Hunnes/ /  / / 博士/ 認/ 為/ 也/ 可以/ 歸/ 功/ 於/ 飲/ 食/ 的/ 抗/ 發/ 炎/ 作用/ 帶/ 來/ 的/ 好/ 處/ / \n",
      "/ / 有/ 很多/ 營/ 養/ 和/ 流行/ 流行病/ 學/ 研究/ 表明/ 健康/ 的/ 飲/ 食/ 例如/ 地中/ 地中海/ 中海/ 飲/ 食/ 是/ 可以/ 降低/ 發/ 炎/ 的/ 想要/ 減/ 緩/ 衰老/ 和/ 認/ 知能/ 能力/ 下降/ 最/ 簡/ 單/ 的/ 方法/ 就是/ 吃/ 得/ 健康/ 以/ 植物/ 為/ 基/ 礎/ 比如/ 地中/ 地中海/ 中海/ 飲/ 食/ / \n",
      "/ / 常春/ 月刊/ 編/ 輯/ 部/ 整理/ 文章/ 授/ 權/ 提供/ NOW/ 健康/ / \n",
      "/ 【/ 延伸/ 閱/ 讀/ 】．/ 地中/ 地中海/ 中海/ 飲/ 食/ 降/ 血/ 壓/ 降血脂/ 血脂/ 還/ 能/ 防/ 中/ 風/ /  / / 營/ 養/ 師/ 揭/ 5/ 原/ 則/ +/ 1/ 陷阱/ ．/ 常/ 懷/ 疑/ 另一半/ 一半/ 偷吃/ 小心/ 早/ 發/ 性/ 失/ 智/ 上身/ /  / / 醫/ 曝/ 罹/ 病/ 關/ 鍵/ 沒/ 發/ 現/ 就/ 太/ 遲/ 了\n",
      "\n",
      "精確模式: 過去/ 大家/ 總是/ 把/ 地中海/ 飲食/ 和/ 心血管/ 疾病/ 連結/ 在/ 一起/ 但/ JAMA/  / Network/  / Open/ 上/ 發表/ 的/ 新/ 研究/ 表明/ 地中海/ 飲食/ 也/ 能/ 對/ 抗/ 認知/ 衰退/ 和/ 失智症/ 俗稱/ 失智症/ 的/ 阿茲海默症/ 是/ 目前/ 最常見/ 的/ 神經/ 退化/ 性疾病/ 之一/ 在/ 美國/ 有/ 超過/ 600/ 萬人/ 罹患/ 阿茲海默症/ 預計/ 到/ 了/ 2050/ 年/ 這個/ 數字將/ 高達/ 1300/ 萬/ 因此/ 如何/ 預防/ 顯得/ 特別/ 重要/ \n",
      "/ 該/ 研究/ 針對/ 6/ ,/ 000/ 多名/ 習慣/ 地中海/ 飲食/ 的/ 西班牙/ 裔/ 和/ 拉丁/ 裔/ 人士/ 進行/ 調查/ 參與者/ 完成/ 了/ 飲/ 食評/ 估並/ 接受/ 兩次/ 認知/ 測試/ 其中/ 有/ 35.8%/ 的/ 人/ 較/ 鬆/ 散/ 地/ 遵循/ 地中海/ 飲食/ 計畫/ 45.4%/ 的/ 人/ 適度/ 地/ 堅持/ 其餘/ 18.8%/ 的/ 人/ 嚴格/ 遵循/ 飲食/ 計劃/ \n",
      "/ 研究/ 人員/ 發現/ 嚴格/ 遵守/ 地中海/ 飲食/ 計畫組/ 似乎/ 有助/ 於/ 降低/ 西班牙/ 裔/ 和/ 拉丁/ 裔/ 罹患/ 阿茲海默症/ 的/ 風險/ 營養師/ Danielle/  / McAvoy/ 指出/ 這些/ 發現/ 呼應/ 其他/ 研究/ 的/ 結果/ 並加強/ 了/ 健康/ 與/ 地中海/ 飲食/ 之間/ 的/ 關聯性/ 特別/ 是/ 對/ 西班牙/ 裔/ 和/ 拉丁/ 裔/ 的/ 人/ \n",
      "/ 另外/ 加州/ 大學/ UCLA/ 洛杉磯/ 分校/ 醫學/ 中心/ 的/ 高級/ 臨床/ 營養師/ 加州/ 大學洛杉磯/ 分校/ 菲爾丁/ 公共/ 衛生/ 學院/ 的/ 助理/ 教授/ 同時/ 也/ 是/ 生存/ 食譜/ 的/ 作者/ Dana/  / Ellis/  / Hunnes/  / 博士/ 認為/ 也/ 可以/ 歸功/ 於/ 飲食/ 的/ 抗發炎/ 作用/ 帶來/ 的/ 好/ 處/ \n",
      "/ 有/ 很多/ 營養/ 和/ 流行病/ 學/ 研究/ 表明/ 健康/ 的/ 飲食/ 例如/ 地中海/ 飲食/ 是/ 可以/ 降低/ 發炎/ 的/ 想要/ 減緩/ 衰老/ 和/ 認知/ 能力/ 下降/ 最/ 簡單/ 的/ 方法/ 就是/ 吃/ 得/ 健康/ 以/ 植物/ 為/ 基礎/ 比如/ 地中海/ 飲食/ \n",
      "/ 常春/ 月刊/ 編輯部/ 整理/ 文章/ 授權/ 提供/ NOW/ 健康/ \n",
      "/ 【/ 延伸/ 閱讀/ 】/ ．/ 地中海/ 飲食/ 降血壓/ 降血脂/ 還能/ 防中風/  / 營養師/ 揭/ 5/ 原則/ +/ 1/ 陷阱/ ．/ 常懷疑/ 另一半/ 偷吃/ 小心/ 早發性/ 失智/ 上身/  / 醫/ 曝/ 罹病/ 關鍵/ 沒/ 發現/ 就/ 太遲/ 了\n",
      "\n",
      "Default為精確模式: 過去/ 大家/ 總是/ 把/ 地中海/ 飲食/ 和/ 心血管/ 疾病/ 連結/ 在/ 一起/ 但/ JAMA/  / Network/  / Open/ 上/ 發表/ 的/ 新/ 研究/ 表明/ 地中海/ 飲食/ 也/ 能/ 對/ 抗/ 認知/ 衰退/ 和/ 失智症/ 俗稱/ 失智症/ 的/ 阿茲海默症/ 是/ 目前/ 最常見/ 的/ 神經/ 退化/ 性疾病/ 之一/ 在/ 美國/ 有/ 超過/ 600/ 萬人/ 罹患/ 阿茲海默症/ 預計/ 到/ 了/ 2050/ 年/ 這個/ 數字將/ 高達/ 1300/ 萬/ 因此/ 如何/ 預防/ 顯得/ 特別/ 重要/ \n",
      "/ 該/ 研究/ 針對/ 6/ ,/ 000/ 多名/ 習慣/ 地中海/ 飲食/ 的/ 西班牙/ 裔/ 和/ 拉丁/ 裔/ 人士/ 進行/ 調查/ 參與者/ 完成/ 了/ 飲/ 食評/ 估並/ 接受/ 兩次/ 認知/ 測試/ 其中/ 有/ 35.8%/ 的/ 人/ 較/ 鬆/ 散/ 地/ 遵循/ 地中海/ 飲食/ 計畫/ 45.4%/ 的/ 人/ 適度/ 地/ 堅持/ 其餘/ 18.8%/ 的/ 人/ 嚴格/ 遵循/ 飲食/ 計劃/ \n",
      "/ 研究/ 人員/ 發現/ 嚴格/ 遵守/ 地中海/ 飲食/ 計畫組/ 似乎/ 有助/ 於/ 降低/ 西班牙/ 裔/ 和/ 拉丁/ 裔/ 罹患/ 阿茲海默症/ 的/ 風險/ 營養師/ Danielle/  / McAvoy/ 指出/ 這些/ 發現/ 呼應/ 其他/ 研究/ 的/ 結果/ 並加強/ 了/ 健康/ 與/ 地中海/ 飲食/ 之間/ 的/ 關聯性/ 特別/ 是/ 對/ 西班牙/ 裔/ 和/ 拉丁/ 裔/ 的/ 人/ \n",
      "/ 另外/ 加州/ 大學/ UCLA/ 洛杉磯/ 分校/ 醫學/ 中心/ 的/ 高級/ 臨床/ 營養師/ 加州/ 大學洛杉磯/ 分校/ 菲爾丁/ 公共/ 衛生/ 學院/ 的/ 助理/ 教授/ 同時/ 也/ 是/ 生存/ 食譜/ 的/ 作者/ Dana/  / Ellis/  / Hunnes/  / 博士/ 認為/ 也/ 可以/ 歸功/ 於/ 飲食/ 的/ 抗發炎/ 作用/ 帶來/ 的/ 好/ 處/ \n",
      "/ 有/ 很多/ 營養/ 和/ 流行病/ 學/ 研究/ 表明/ 健康/ 的/ 飲食/ 例如/ 地中海/ 飲食/ 是/ 可以/ 降低/ 發炎/ 的/ 想要/ 減緩/ 衰老/ 和/ 認知/ 能力/ 下降/ 最/ 簡單/ 的/ 方法/ 就是/ 吃/ 得/ 健康/ 以/ 植物/ 為/ 基礎/ 比如/ 地中海/ 飲食/ \n",
      "/ 常春/ 月刊/ 編輯部/ 整理/ 文章/ 授權/ 提供/ NOW/ 健康/ \n",
      "/ 【/ 延伸/ 閱讀/ 】/ ．/ 地中海/ 飲食/ 降血壓/ 降血脂/ 還能/ 防中風/  / 營養師/ 揭/ 5/ 原則/ +/ 1/ 陷阱/ ．/ 常懷疑/ 另一半/ 偷吃/ 小心/ 早發性/ 失智/ 上身/  / 醫/ 曝/ 罹病/ 關鍵/ 沒/ 發現/ 就/ 太遲/ 了\n",
      "\n",
      "搜索引擎模式: 過去/ 大家/ 總是/ 把/ 地中/ 中海/ 地中海/ 飲食/ 和/ 心血/ 血管/ 心血管/ 疾病/ 連結/ 在/ 一起/ 但/ JAMA/  / Network/  / Open/ 上/ 發表/ 的/ 新/ 研究/ 表明/ 地中/ 中海/ 地中海/ 飲食/ 也/ 能/ 對/ 抗/ 認知/ 衰退/ 和/ 失智症/ 俗稱/ 失智症/ 的/ 阿茲海默症/ 是/ 目前/ 最常/ 最常見/ 的/ 神經/ 退化/ 疾病/ 性疾病/ 之一/ 在/ 美國/ 有/ 超過/ 600/ 萬人/ 罹患/ 阿茲海默症/ 預計/ 到/ 了/ 2050/ 年/ 這個/ 數字將/ 高達/ 1300/ 萬/ 因此/ 如何/ 預防/ 顯得/ 特別/ 重要/ \n",
      "/ 該/ 研究/ 針對/ 6/ ,/ 000/ 多名/ 習慣/ 地中/ 中海/ 地中海/ 飲食/ 的/ 西班牙/ 裔/ 和/ 拉丁/ 裔/ 人士/ 進行/ 調查/ 參與者/ 完成/ 了/ 飲/ 食評/ 估並/ 接受/ 兩次/ 認知/ 測試/ 其中/ 有/ 35.8%/ 的/ 人/ 較/ 鬆/ 散/ 地/ 遵循/ 地中/ 中海/ 地中海/ 飲食/ 計畫/ 45.4%/ 的/ 人/ 適度/ 地/ 堅持/ 其餘/ 18.8%/ 的/ 人/ 嚴格/ 遵循/ 飲食/ 計劃/ \n",
      "/ 研究/ 人員/ 發現/ 嚴格/ 遵守/ 地中/ 中海/ 地中海/ 飲食/ 計畫組/ 似乎/ 有助/ 於/ 降低/ 西班牙/ 裔/ 和/ 拉丁/ 裔/ 罹患/ 阿茲海默症/ 的/ 風險/ 營養師/ Danielle/  / McAvoy/ 指出/ 這些/ 發現/ 呼應/ 其他/ 研究/ 的/ 結果/ 並加強/ 了/ 健康/ 與/ 地中/ 中海/ 地中海/ 飲食/ 之間/ 的/ 關聯性/ 特別/ 是/ 對/ 西班牙/ 裔/ 和/ 拉丁/ 裔/ 的/ 人/ \n",
      "/ 另外/ 加州/ 大學/ UCLA/ 洛杉磯/ 分校/ 醫學/ 中心/ 的/ 高級/ 臨床/ 營養師/ 加州/ 大學洛杉磯/ 分校/ 菲爾丁/ 公共/ 衛生/ 學院/ 的/ 助理/ 教授/ 同時/ 也/ 是/ 生存/ 食譜/ 的/ 作者/ Dana/  / Ellis/  / Hunnes/  / 博士/ 認為/ 也/ 可以/ 歸功/ 於/ 飲食/ 的/ 抗發炎/ 作用/ 帶來/ 的/ 好/ 處/ \n",
      "/ 有/ 很多/ 營養/ 和/ 流行/ 流行病/ 學/ 研究/ 表明/ 健康/ 的/ 飲食/ 例如/ 地中/ 中海/ 地中海/ 飲食/ 是/ 可以/ 降低/ 發炎/ 的/ 想要/ 減緩/ 衰老/ 和/ 認知/ 能力/ 下降/ 最/ 簡單/ 的/ 方法/ 就是/ 吃/ 得/ 健康/ 以/ 植物/ 為/ 基礎/ 比如/ 地中/ 中海/ 地中海/ 飲食/ \n",
      "/ 常春/ 月刊/ 編輯部/ 整理/ 文章/ 授權/ 提供/ NOW/ 健康/ \n",
      "/ 【/ 延伸/ 閱讀/ 】/ ．/ 地中/ 中海/ 地中海/ 飲食/ 降血壓/ 血脂/ 降血脂/ 還能/ 防中風/  / 營養師/ 揭/ 5/ 原則/ +/ 1/ 陷阱/ ．/ 常懷疑/ 一半/ 另一半/ 偷吃/ 小心/ 早發性/ 失智/ 上身/  / 醫/ 曝/ 罹病/ 關鍵/ 沒/ 發現/ 就/ 太遲/ 了\n",
      "\n"
     ]
    }
   ],
   "source": [
    "Sentence = jieba.cut(d, cut_all=True)\n",
    "print('全模式'+\": \"  + \"/ \".join(Sentence) + '\\n')   \n",
    " \n",
    "Sentence = jieba.cut(d, cut_all=False)\n",
    "print('精確模式'+\": \" + \"/ \".join(Sentence)+ '\\n')  \n",
    " \n",
    "Sentence = jieba.cut(d)  \n",
    "print('Default為精確模式'+\": \" + \"/ \".join(Sentence)+ '\\n')\n",
    " \n",
    "Sentence = jieba.cut_for_search(d)  \n",
    "print('搜索引擎模式'+\": \" + \"/ \".join(Sentence)+ '\\n')"
   ]
  },
  {
   "cell_type": "code",
   "execution_count": 56,
   "id": "201e91b6",
   "metadata": {},
   "outputs": [],
   "source": [
    "from wordcloud import WordCloud, STOPWORDS\n",
    "import numpy as np\n",
    "import matplotlib.pyplot as plt\n",
    "from PIL import Image\n",
    "import jieba\n",
    "import jieba.analyse\n",
    "from collections import Counter # 次數統計"
   ]
  },
  {
   "cell_type": "code",
   "execution_count": 57,
   "id": "a54cc0b7",
   "metadata": {},
   "outputs": [
    {
     "ename": "AttributeError",
     "evalue": "'str' object has no attribute 'items'",
     "output_type": "error",
     "traceback": [
      "\u001b[0;31m---------------------------------------------------------------------------\u001b[0m",
      "\u001b[0;31mAttributeError\u001b[0m                            Traceback (most recent call last)",
      "Input \u001b[0;32mIn [57]\u001b[0m, in \u001b[0;36m<cell line: 23>\u001b[0;34m()\u001b[0m\n\u001b[1;32m     17\u001b[0m wc \u001b[38;5;241m=\u001b[39m WordCloud(font_path\u001b[38;5;241m=\u001b[39m\u001b[38;5;124m\"\u001b[39m\u001b[38;5;124m/Users/hsuanlee/Library/Fonts/NotoSansCJKtc-Regular.otf\u001b[39m\u001b[38;5;124m\"\u001b[39m, \u001b[38;5;66;03m#設置字體\u001b[39;00m\n\u001b[1;32m     18\u001b[0m                background_color\u001b[38;5;241m=\u001b[39m\u001b[38;5;124m\"\u001b[39m\u001b[38;5;124mwhite\u001b[39m\u001b[38;5;124m\"\u001b[39m, \u001b[38;5;66;03m#背景顏色\u001b[39;00m\n\u001b[1;32m     19\u001b[0m                max_words \u001b[38;5;241m=\u001b[39m \u001b[38;5;241m2000\u001b[39m ,        \u001b[38;5;66;03m#文字雲顯示最大詞數\u001b[39;00m\n\u001b[1;32m     20\u001b[0m                stopwords\u001b[38;5;241m=\u001b[39mstopwords)      \u001b[38;5;66;03m#停用字詞\u001b[39;00m\n\u001b[1;32m     22\u001b[0m \u001b[38;5;66;03m# 使用dictionary的內容產生文字雲\u001b[39;00m\n\u001b[0;32m---> 23\u001b[0m \u001b[43mwc\u001b[49m\u001b[38;5;241;43m.\u001b[39;49m\u001b[43mgenerate_from_frequencies\u001b[49m\u001b[43m(\u001b[49m\u001b[43mfont\u001b[49m\u001b[43m)\u001b[49m\n\u001b[1;32m     25\u001b[0m \u001b[38;5;66;03m# 視覺化呈現\u001b[39;00m\n\u001b[1;32m     26\u001b[0m plt\u001b[38;5;241m.\u001b[39mimshow(wc)\n",
      "File \u001b[0;32m~/opt/anaconda3/lib/python3.9/site-packages/wordcloud/wordcloud.py:408\u001b[0m, in \u001b[0;36mWordCloud.generate_from_frequencies\u001b[0;34m(self, frequencies, max_font_size)\u001b[0m\n\u001b[1;32m    392\u001b[0m \u001b[38;5;124;03m\"\"\"Create a word_cloud from words and frequencies.\u001b[39;00m\n\u001b[1;32m    393\u001b[0m \n\u001b[1;32m    394\u001b[0m \u001b[38;5;124;03mParameters\u001b[39;00m\n\u001b[0;32m   (...)\u001b[0m\n\u001b[1;32m    405\u001b[0m \n\u001b[1;32m    406\u001b[0m \u001b[38;5;124;03m\"\"\"\u001b[39;00m\n\u001b[1;32m    407\u001b[0m \u001b[38;5;66;03m# make sure frequencies are sorted and normalized\u001b[39;00m\n\u001b[0;32m--> 408\u001b[0m frequencies \u001b[38;5;241m=\u001b[39m \u001b[38;5;28msorted\u001b[39m(\u001b[43mfrequencies\u001b[49m\u001b[38;5;241;43m.\u001b[39;49m\u001b[43mitems\u001b[49m(), key\u001b[38;5;241m=\u001b[39mitemgetter(\u001b[38;5;241m1\u001b[39m), reverse\u001b[38;5;241m=\u001b[39m\u001b[38;5;28;01mTrue\u001b[39;00m)\n\u001b[1;32m    409\u001b[0m \u001b[38;5;28;01mif\u001b[39;00m \u001b[38;5;28mlen\u001b[39m(frequencies) \u001b[38;5;241m<\u001b[39m\u001b[38;5;241m=\u001b[39m \u001b[38;5;241m0\u001b[39m:\n\u001b[1;32m    410\u001b[0m     \u001b[38;5;28;01mraise\u001b[39;00m \u001b[38;5;167;01mValueError\u001b[39;00m(\u001b[38;5;124m\"\u001b[39m\u001b[38;5;124mWe need at least 1 word to plot a word cloud, \u001b[39m\u001b[38;5;124m\"\u001b[39m\n\u001b[1;32m    411\u001b[0m                      \u001b[38;5;124m\"\u001b[39m\u001b[38;5;124mgot \u001b[39m\u001b[38;5;132;01m%d\u001b[39;00m\u001b[38;5;124m.\u001b[39m\u001b[38;5;124m\"\u001b[39m \u001b[38;5;241m%\u001b[39m \u001b[38;5;28mlen\u001b[39m(frequencies))\n",
      "\u001b[0;31mAttributeError\u001b[0m: 'str' object has no attribute 'items'"
     ]
    }
   ],
   "source": [
    "# 使用cut_for_search(搜尋引擎)斷詞模式並產生字詞頻率的dictionary (並剔除stopwords的計算)\n",
    "Sentence = jieba.cut_for_search(d) \n",
    " \n",
    "# create a python dictionary\n",
    "hash = {}\n",
    "for item in Sentence:\n",
    " \n",
    "    if item in stopwords:\n",
    "        continue\n",
    "    \n",
    "    if item in hash:\n",
    "        hash[item] += 1\n",
    "    else:\n",
    "        hash[item] = 1\n",
    " \n",
    "# 文字雲樣式設定\n",
    "wc = WordCloud(font_path=\"/Users/hsuanlee/Library/Fonts/NotoSansCJKtc-Regular.otf\", #設置字體\n",
    "               background_color=\"white\", #背景顏色\n",
    "               max_words = 2000 ,        #文字雲顯示最大詞數\n",
    "               stopwords=stopwords)      #停用字詞\n",
    " \n",
    "# 使用dictionary的內容產生文字雲\n",
    "wc.generate_from_frequencies(font)\n",
    " \n",
    "# 視覺化呈現\n",
    "plt.imshow(wc)\n",
    "plt.axis(\"off\")\n",
    "plt.figure(figsize=(20,10), dpi =200)\n",
    "plt.show()"
   ]
  },
  {
   "cell_type": "code",
   "execution_count": null,
   "id": "62e19149",
   "metadata": {},
   "outputs": [],
   "source": []
  }
 ],
 "metadata": {
  "kernelspec": {
   "display_name": "Python 3 (ipykernel)",
   "language": "python",
   "name": "python3"
  },
  "language_info": {
   "codemirror_mode": {
    "name": "ipython",
    "version": 3
   },
   "file_extension": ".py",
   "mimetype": "text/x-python",
   "name": "python",
   "nbconvert_exporter": "python",
   "pygments_lexer": "ipython3",
   "version": "3.9.12"
  }
 },
 "nbformat": 4,
 "nbformat_minor": 5
}
