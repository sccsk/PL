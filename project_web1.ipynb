{
 "cells": [
  {
   "cell_type": "code",
   "execution_count": 1,
   "id": "031d02c1",
   "metadata": {},
   "outputs": [],
   "source": [
    "import requests\n",
    "from bs4 import BeautifulSoup\n",
    "\n",
    "url = 'http://www.meetpets.org.tw/pets/dog'\n",
    "response = requests.get(url=url)\n",
    " \n",
    "soup = BeautifulSoup(response.text, 'lxml')\n"
   ]
  },
  {
   "cell_type": "code",
   "execution_count": 2,
   "id": "c3069883",
   "metadata": {},
   "outputs": [
    {
     "name": "stdout",
     "output_type": "stream",
     "text": [
      "有顏值有才藝黑妹妹 名字:黑妹 簡介：可愛親人黑狗狗妹妹 \n",
      "四眼聰明娃 害羞脾氣好+混搭毛色美  露露 名字:露露 簡介：愛媽平時會用牽繩帶出去散步，社會化足夠！ \n",
      "咪嚕妹妹 委屈在狗園的乖巧微長毛孩子～毛色與個性都美 名字:咪嚕 簡介：很會跟人互動，適合家裡有大孩子愛外出的家庭！ \n",
      "體型有如小柴犬的嬌小虎斑妹子～很乖的Yahoo 名字:Yahoo 雅虎 簡介：稀有體型嬌小黑虎斑，最像藝術品的美麗孩子 \n",
      "活潑可愛的Dior弟弟免費送養 名字:Dior 簡介：活潑可愛的Dior弟弟免費送養 \n",
      "小巧可愛Tiffany妹妹免費送養 名字:Tiffany 簡介：小巧可愛Tiffany妹妹免費送養 \n",
      "天菜Gucci弟弟免費送養 名字:Gucci 簡介：天菜Gucci弟弟免費送養 \n",
      "好可愛的三花弟弟Loewe免費送養 名字:Loewe 簡介：好可愛的三花弟弟Loewe免費送養 \n",
      "極品Coach弟弟免費送養 名字:Coach 簡介：極品Coach弟弟免費送養 \n",
      "小四眼弟弟LV免費送養中 名字:LV 簡介：小四眼弟弟LV免費送養中 \n",
      "命運坎坷的小美女 名字:妹妹 簡介：年輕女生溫和活潑親人親狗 \n",
      "米克斯萌犬 送養 名字:萌寶 簡介：米克斯萌犬，男生，中長毛，寵物犬的活潑親人個性，笑瞇瞇喔 \n",
      "混拉拉小女生免費送養 名字:小玲 簡介：混拉拉小女生免費送養 \n",
      "賈賈送養 名字:賈賈 簡介：賈賈送養，可愛狗狗～ \n",
      "戚風 堅強愛撒嬌小型黑米 名字:戚風 簡介：經歷車禍，重新站起來奔跑的戚風找家中 \n",
      "狗狗 鐵鍊 送養 名字:鐵鍊 簡介：黑色皮毛、很美的褐色眼睛、尾巴有莫名的喜感、中型犬 \n",
      "活潑可愛的黑貴賓（11/29已找到原飼養的人並已歸還謝謝） 名字:布丁 簡介：2歲左右黑貴賓公狗會坐下握手親人 \n",
      "這隻小狗還在送養中歐 名字:小乖 簡介：這隻小狗還在送養中歐！ \n",
      "超萌米克斯小狗尋求領養 名字:無 簡介：超萌米克斯小狗尋求領養 \n",
      "活潑女孩小小黑要找個家 名字:小小黑 簡介：在校園內被同學撿到小小黑，活潑親人的小貪吃鬼。 \n",
      "（莉莉）見面就先來個抱抱！溫柔黏人、牽繩跟隨～乖狗 名字:莉莉 簡介：愛心媽媽每隻都是用愛在呵護！ \n",
      "麻糬 名字:麻糬 簡介：身披乳牛衣，腳穿潑墨點點襪 \n",
      "可愛壯妹快來認養 名字:壯妹 簡介：我是黑色中型犬，超級可愛親人！圓滾滾的身材+短毛=超可愛 \n",
      "激推～（史努比）溫馴貼心、運動咖、會指令～年輕家庭必備 名字:史努比 （努努） 簡介：個性超好、習慣超好、脾氣超好、規矩超好，樣樣都好的孩子！ \n",
      "賈賈認養文 名字:賈賈 簡介：中大型犬、棕黃色、立耳、短毛、褐色眼睛 \n",
      "Cody小可愛 名字:Cody 簡介：5歲的Cody \n",
      "大家好我是榮浩 ~本汪世界無敵可愛，撒嬌天王，快點來找我。 名字:榮浩 簡介：大家好✨我是榮浩~~本汪世界無敵可愛，撒嬌天王，快點來找 \n",
      "害羞怕生的寶貝—牛牛 名字:牛牛 簡介：男生 17公斤 黑白斑點 大耳朵 大眼睛 \n",
      "狗狗 鐵鍊 送養 名字:鐵鍊 簡介：鐵鍊 - 小男孩，年齡約5、6歲，健康已結紮 \n",
      "蛋白等家~ 名字:蛋白 簡介：【健康狀況】健康，已結紮  【特徵】白色帶點淺黃 \n",
      "漂亮金毛美眉送養 名字:JOJO 簡介：健康愛乾淨溫和的 金毛妹妹送養 \n",
      "可樂果等家 名字:可樂果 簡介：可樂果等家 \n",
      "被公認脾氣超好！超強小三！爸爸無敵情人！～「好的」來了！ 名字:好的 簡介：位於三芝狗園，若交通不便，亦可約於台北市區 \n",
      "親人的阿肥找家 名字:阿肥 簡介：親人的阿肥找家 \n",
      "限量款）中偏小米克斯！極少見棕色超短毛，撒嬌到讓你融化～Miso妹妹 名字:Miso 咪搜 簡介：適合走進家庭的一隻孩子，希望能遇到真愛！ \n",
      "穩定親人的金莎妹妹在找家 名字:金莎 簡介：穩定親人的金莎妹妹在找家 \n",
      "活潑親人的皮老闆弟弟免費送養中 名字:皮老闆 簡介：活潑親人的皮老闆免費送養中 \n",
      "溫柔可人的阿嬌在找家 名字:阿嬌 簡介：溫柔可人的阿嬌在找家 \n",
      "NANA娜娜～稀少白色中大型幼犬 （有廣告明星樣） 名字:Nana娜娜 簡介：個性十分討喜，全身肉感十足，超像廣告明星 \n",
      "嬌小+短腿+塞奶+才藝= 露咖 名字:露咖Loca 簡介：只有一個 好棒棒 可以形容她的好！ \n",
      "（類拉拉）聰明絕頂又獨樹一格的中大型犬～雪球（又名小白） 名字:雪球（小白） 簡介：有拉拉的憨厚，卻比拉拉聰明許多。很討人喜歡！ \n",
      "混拉拉米克斯免費送養 名字:布丁 簡介：混拉拉米克斯免費送養 \n",
      "小女孩~玉山 名字:華南 簡介：我還很小,很多事都還不會,但是我很會賣萌喔 \n",
      "小女孩~台新 名字:台新 簡介：可愛.親人.活潑~但我一天要吃4餐喔 \n",
      "穩定乖巧的長毛垂耳黑狗男生狗狗 名字:酷比 簡介：穩定乖巧的3歲長毛垂耳黑狗男生狗狗，愛乾淨喜室外大小便 \n",
      "忠心護主、顧家的黑公主找家 名字:黑妞 簡介：10合一、狂犬、心絲蟲預防針已完成。 \n"
     ]
    }
   ],
   "source": [
    "info_items = soup.find_all('div', 'view-item')\n",
    "\n",
    " \n",
    "for item in info_items:\n",
    "    topic = item.find('div', 'view-field').a.text.strip()\n",
    "    name= item.find('div', 'view-data-node-data-field-pet-name-field-pet-name-value').text.strip()\n",
    "    info= item.find('div','view-data-node-data-field-pet-look-field-pet-look-value').text.strip()\n",
    "    \n",
    "\n",
    "    print('{} 名字:{} 簡介：{} '.format(topic, name, info))"
   ]
  },
  {
   "cell_type": "code",
   "execution_count": 13,
   "id": "4f077fea",
   "metadata": {},
   "outputs": [
    {
     "data": {
      "text/plain": [
       "[<img alt=\"317952252_3074337292712280_3289793400215961726_n.jpg\" class=\"imagecache imagecache-pet_promo_100x75\" src=\"http://www.meetpets.org.tw/files_meetpets/imagecache/pet_promo_100x75/317952252_3074337292712280_3289793400215961726_n.jpg\" title=\"\"/>,\n",
       " <img alt=\"1C7FF591-E211-4743-92CF-FC1E63E55875.jpeg\" class=\"imagecache imagecache-pet_promo_100x75\" src=\"http://www.meetpets.org.tw/files_meetpets/imagecache/pet_promo_100x75/1C7FF591-E211-4743-92CF-FC1E63E55875.jpeg\" title=\"\"/>,\n",
       " <img alt=\"9972DC68-6DDA-4DCD-83B2-57191C7E7DDA.jpeg\" class=\"imagecache imagecache-pet_promo_100x75\" src=\"http://www.meetpets.org.tw/files_meetpets/imagecache/pet_promo_100x75/9972DC68-6DDA-4DCD-83B2-57191C7E7DDA.jpeg\" title=\"\"/>,\n",
       " <img alt=\"454674E2-A751-4386-9CF0-811B03A5C5DD.jpeg\" class=\"imagecache imagecache-pet_promo_100x75\" src=\"http://www.meetpets.org.tw/files_meetpets/imagecache/pet_promo_100x75/454674E2-A751-4386-9CF0-811B03A5C5DD.jpeg\" title=\"\"/>,\n",
       " <img alt=\"Dior9.jpg\" class=\"imagecache imagecache-pet_promo_100x75\" src=\"http://www.meetpets.org.tw/files_meetpets/imagecache/pet_promo_100x75/Dior9.jpg\" title=\"\"/>,\n",
       " <img alt=\"Tiffany6.jpg\" class=\"imagecache imagecache-pet_promo_100x75\" src=\"http://www.meetpets.org.tw/files_meetpets/imagecache/pet_promo_100x75/Tiffany6.jpg\" title=\"\"/>,\n",
       " <img alt=\"GucciIry.jpg\" class=\"imagecache imagecache-pet_promo_100x75\" src=\"http://www.meetpets.org.tw/files_meetpets/imagecache/pet_promo_100x75/GucciIry.jpg\" title=\"\"/>,\n",
       " <img alt=\"Loewe.jpg\" class=\"imagecache imagecache-pet_promo_100x75\" src=\"http://www.meetpets.org.tw/files_meetpets/imagecache/pet_promo_100x75/Loewe.jpg\" title=\"\"/>,\n",
       " <img alt=\"Coach.jpg\" class=\"imagecache imagecache-pet_promo_100x75\" src=\"http://www.meetpets.org.tw/files_meetpets/imagecache/pet_promo_100x75/Coach.jpg\" title=\"\"/>,\n",
       " <img alt=\"LV1.jpg\" class=\"imagecache imagecache-pet_promo_100x75\" src=\"http://www.meetpets.org.tw/files_meetpets/imagecache/pet_promo_100x75/LV1.jpg\" title=\"\"/>,\n",
       " <img alt=\"PXL_20220824_022753628_exported_701_1661347131319.jpg\" class=\"imagecache imagecache-pet_promo_100x75\" src=\"http://www.meetpets.org.tw/files_meetpets/imagecache/pet_promo_100x75/PXL_20220824_022753628_exported_701_1661347131319.jpg\" title=\"撒嬌的樣子\"/>,\n",
       " <img alt=\"20221011_074742.jpg\" class=\"imagecache imagecache-pet_promo_100x75\" src=\"http://www.meetpets.org.tw/files_meetpets/imagecache/pet_promo_100x75/20221011_074742.jpg\" title=\"\"/>,\n",
       " <img alt=\"1670386449193.jpg\" class=\"imagecache imagecache-pet_promo_100x75\" src=\"http://www.meetpets.org.tw/files_meetpets/imagecache/pet_promo_100x75/1670386449193.jpg\" title=\"\"/>,\n",
       " <img alt=\"S__45580430.jpg\" class=\"imagecache imagecache-pet_promo_100x75\" src=\"http://www.meetpets.org.tw/files_meetpets/imagecache/pet_promo_100x75/S__45580430.jpg\" title=\"\"/>,\n",
       " <img alt=\"314652415_2192451267594393_8586947288761878991_n.jpg\" class=\"imagecache imagecache-pet_promo_100x75\" src=\"http://www.meetpets.org.tw/files_meetpets/imagecache/pet_promo_100x75/314652415_2192451267594393_8586947288761878991_n.jpg\" title=\"\"/>,\n",
       " <img alt=\"693568647.jpg\" class=\"imagecache imagecache-pet_promo_100x75\" src=\"http://www.meetpets.org.tw/files_meetpets/imagecache/pet_promo_100x75/693568647.jpg\" title=\"\"/>,\n",
       " <img alt=\"IMG_20221111_104023.jpg\" class=\"imagecache imagecache-pet_promo_100x75\" src=\"http://www.meetpets.org.tw/files_meetpets/imagecache/pet_promo_100x75/IMG_20221111_104023.jpg\" title=\"大約2歲\"/>,\n",
       " <img alt=\"S__167952387.jpg\" class=\"imagecache imagecache-pet_promo_100x75\" src=\"http://www.meetpets.org.tw/files_meetpets/imagecache/pet_promo_100x75/S__167952387.jpg\" title=\"\"/>,\n",
       " <img alt=\"received_655365042765615.jpeg\" class=\"imagecache imagecache-pet_promo_100x75\" src=\"http://www.meetpets.org.tw/files_meetpets/imagecache/pet_promo_100x75/received_655365042765615.jpeg\" title=\"\"/>,\n",
       " <img alt=\"49242.jpg\" class=\"imagecache imagecache-pet_promo_100x75\" src=\"http://www.meetpets.org.tw/files_meetpets/imagecache/pet_promo_100x75/49242.jpg\" title=\"\"/>,\n",
       " <img alt=\"00008201-FB9C-4745-A607-968E294C534F.jpeg\" class=\"imagecache imagecache-pet_promo_100x75\" src=\"http://www.meetpets.org.tw/files_meetpets/imagecache/pet_promo_100x75/00008201-FB9C-4745-A607-968E294C534F.jpeg\" title=\"\"/>,\n",
       " <img alt=\"ONE.jpg\" class=\"imagecache imagecache-pet_promo_100x75\" src=\"http://www.meetpets.org.tw/files_meetpets/imagecache/pet_promo_100x75/ONE.jpg\" title=\"\"/>,\n",
       " <img alt=\"43C7853E-BAD8-4B6A-A1B2-D22EB7A4A89C.jpeg\" class=\"imagecache imagecache-pet_promo_100x75\" src=\"http://www.meetpets.org.tw/files_meetpets/imagecache/pet_promo_100x75/43C7853E-BAD8-4B6A-A1B2-D22EB7A4A89C.jpeg\" title=\"\"/>,\n",
       " <img alt=\"814B0F0E-B089-44DA-BA65-FEE6731BAB86.jpeg\" class=\"imagecache imagecache-pet_promo_100x75\" src=\"http://www.meetpets.org.tw/files_meetpets/imagecache/pet_promo_100x75/814B0F0E-B089-44DA-BA65-FEE6731BAB86.jpeg\" title=\"\"/>,\n",
       " <img alt=\"753445120.jpg\" class=\"imagecache imagecache-pet_promo_100x75\" src=\"http://www.meetpets.org.tw/files_meetpets/imagecache/pet_promo_100x75/753445120_0.jpg\" title=\"\"/>,\n",
       " <img alt=\"48B36F90-FBE6-42FA-99AA-252263880965.jpeg\" class=\"imagecache imagecache-pet_promo_100x75\" src=\"http://www.meetpets.org.tw/files_meetpets/imagecache/pet_promo_100x75/48B36F90-FBE6-42FA-99AA-252263880965.jpeg\" title=\"\"/>,\n",
       " <img alt=\"2.jpg\" class=\"imagecache imagecache-pet_promo_100x75\" src=\"http://www.meetpets.org.tw/files_meetpets/imagecache/pet_promo_100x75/2_233.jpg\" title=\"\"/>,\n",
       " <img alt=\"278486396_1177344146395662_1770202696690925245_n.jpg\" class=\"imagecache imagecache-pet_promo_100x75\" src=\"http://www.meetpets.org.tw/files_meetpets/imagecache/pet_promo_100x75/278486396_1177344146395662_1770202696690925245_n_1.jpg\" title=\"\"/>,\n",
       " <img alt=\"693568644.jpg\" class=\"imagecache imagecache-pet_promo_100x75\" src=\"http://www.meetpets.org.tw/files_meetpets/imagecache/pet_promo_100x75/693568644.jpg\" title=\"鐵鍊\"/>,\n",
       " <img alt=\"305675725_1090995771584696_8066999003572128460_n.jpg\" class=\"imagecache imagecache-pet_promo_100x75\" src=\"http://www.meetpets.org.tw/files_meetpets/imagecache/pet_promo_100x75/305675725_1090995771584696_8066999003572128460_n.jpg\" title=\"\"/>,\n",
       " <img alt=\"Screenshot_20221023-213348_Gallery.jpg\" class=\"imagecache imagecache-pet_promo_100x75\" src=\"http://www.meetpets.org.tw/files_meetpets/imagecache/pet_promo_100x75/Screenshot_20221023-213348_Gallery.jpg\" title=\"\"/>,\n",
       " <img alt=\"KK.jpg\" class=\"imagecache imagecache-pet_promo_100x75\" src=\"http://www.meetpets.org.tw/files_meetpets/imagecache/pet_promo_100x75/KK.jpg\" title=\"\"/>,\n",
       " <img alt=\"F1CD9B15-4474-4546-813A-C8CCEC91296F.jpeg\" class=\"imagecache imagecache-pet_promo_100x75\" src=\"http://www.meetpets.org.tw/files_meetpets/imagecache/pet_promo_100x75/F1CD9B15-4474-4546-813A-C8CCEC91296F.jpeg\" title=\"\"/>,\n",
       " <img alt=\"1487532651927.jpg\" class=\"imagecache imagecache-pet_promo_100x75\" src=\"http://www.meetpets.org.tw/files_meetpets/imagecache/pet_promo_100x75/1487532651927.jpg\" title=\"1\"/>,\n",
       " <img alt=\"CFB0B81D-E230-48EB-9174-AF7B53E9DF0B.jpeg\" class=\"imagecache imagecache-pet_promo_100x75\" src=\"http://www.meetpets.org.tw/files_meetpets/imagecache/pet_promo_100x75/CFB0B81D-E230-48EB-9174-AF7B53E9DF0B.jpeg\" title=\"\"/>,\n",
       " <img alt=\"1.jpg\" class=\"imagecache imagecache-pet_promo_100x75\" src=\"http://www.meetpets.org.tw/files_meetpets/imagecache/pet_promo_100x75/1_246.jpg\" title=\"\"/>,\n",
       " <img alt=\"1.jpg\" class=\"imagecache imagecache-pet_promo_100x75\" src=\"http://www.meetpets.org.tw/files_meetpets/imagecache/pet_promo_100x75/1_234.jpg\" title=\"\"/>,\n",
       " <img alt=\"1.jpg\" class=\"imagecache imagecache-pet_promo_100x75\" src=\"http://www.meetpets.org.tw/files_meetpets/imagecache/pet_promo_100x75/1_209.jpg\" title=\"\"/>,\n",
       " <img alt=\"BF384D7F-FCD0-42A3-9225-369EE8155EFF.jpeg\" class=\"imagecache imagecache-pet_promo_100x75\" src=\"http://www.meetpets.org.tw/files_meetpets/imagecache/pet_promo_100x75/BF384D7F-FCD0-42A3-9225-369EE8155EFF.jpeg\" title=\"\"/>,\n",
       " <img alt=\"313DC687-F5D8-45C1-9E67-C6D5303BBF77.jpeg\" class=\"imagecache imagecache-pet_promo_100x75\" src=\"http://www.meetpets.org.tw/files_meetpets/imagecache/pet_promo_100x75/313DC687-F5D8-45C1-9E67-C6D5303BBF77.jpeg\" title=\"\"/>,\n",
       " <img alt=\"472DFBB1-75E0-486F-8E73-AE349756CC70.jpeg\" class=\"imagecache imagecache-pet_promo_100x75\" src=\"http://www.meetpets.org.tw/files_meetpets/imagecache/pet_promo_100x75/472DFBB1-75E0-486F-8E73-AE349756CC70.jpeg\" title=\"\"/>,\n",
       " <img alt=\"PUDING1.jpg\" class=\"imagecache imagecache-pet_promo_100x75\" src=\"http://www.meetpets.org.tw/files_meetpets/imagecache/pet_promo_100x75/PUDING1.jpg\" title=\"混拉拉米克斯免費送養\"/>,\n",
       " <img alt=\"LINE_ALBUM_斗南黃母_220913_0.jpg\" class=\"imagecache imagecache-pet_promo_100x75\" src=\"http://www.meetpets.org.tw/files_meetpets/imagecache/pet_promo_100x75/LINE_ALBUM_%E6%96%97%E5%8D%97%E9%BB%83%E6%AF%8D_220913_0.jpg\" title=\"\"/>,\n",
       " <img alt=\"LINE_ALBUM_斗南黃公_220913_2.jpg\" class=\"imagecache imagecache-pet_promo_100x75\" src=\"http://www.meetpets.org.tw/files_meetpets/imagecache/pet_promo_100x75/LINE_ALBUM_%E6%96%97%E5%8D%97%E9%BB%83%E5%85%AC_220913_2.jpg\" title=\"\"/>,\n",
       " <img alt=\"305554774_1238572060298780_5928291910615911531_n.jpg\" class=\"imagecache imagecache-pet_promo_100x75\" src=\"http://www.meetpets.org.tw/files_meetpets/imagecache/pet_promo_100x75/305554774_1238572060298780_5928291910615911531_n.jpg\" title=\"穩定乖巧的三歲小男生\"/>,\n",
       " <img alt=\"S__19521542.jpg\" class=\"imagecache imagecache-pet_promo_100x75\" src=\"http://www.meetpets.org.tw/files_meetpets/imagecache/pet_promo_100x75/S__19521542.jpg\" title=\"\"/>]"
      ]
     },
     "execution_count": 13,
     "metadata": {},
     "output_type": "execute_result"
    }
   ],
   "source": [
    "soup = BeautifulSoup((requests.get(url)).text, \"lxml\")\n",
    "itemslist = soup.find_all('div', 'view-item')\n",
    "\n",
    "p1 = []\n",
    "for item in itemslist:\n",
    "    picture = item.find('div', 'field-item').img\n",
    "    p1.append(picture)    \n",
    "p1"
   ]
  },
  {
   "cell_type": "code",
   "execution_count": null,
   "id": "2a8cf6ba",
   "metadata": {},
   "outputs": [],
   "source": []
  }
 ],
 "metadata": {
  "kernelspec": {
   "display_name": "Python 3 (ipykernel)",
   "language": "python",
   "name": "python3"
  },
  "language_info": {
   "codemirror_mode": {
    "name": "ipython",
    "version": 3
   },
   "file_extension": ".py",
   "mimetype": "text/x-python",
   "name": "python",
   "nbconvert_exporter": "python",
   "pygments_lexer": "ipython3",
   "version": "3.9.12"
  }
 },
 "nbformat": 4,
 "nbformat_minor": 5
}
