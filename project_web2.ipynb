{
 "cells": [
  {
   "cell_type": "code",
   "execution_count": 1,
   "id": "031d02c1",
   "metadata": {},
   "outputs": [],
   "source": [
    "import requests\n",
    "from bs4 import BeautifulSoup\n",
    "\n",
    "url = 'https://www.packtw.org/find-a-dog?gclid=EAIaIQobChMIz7SW0o_p-wIVSWoqCh3Whw3uEAAYASAAEgJLKfD_BwE'\n",
    "response = requests.get(url=url)\n",
    " \n",
    "soup = BeautifulSoup(response.text, 'lxml')\n"
   ]
  },
  {
   "cell_type": "code",
   "execution_count": 2,
   "id": "aa0ad6d8",
   "metadata": {},
   "outputs": [
    {
     "name": "stdout",
     "output_type": "stream",
     "text": [
      "全糖去冰加紅牛 名字:黑糖 簡介：妹妹 • 1歲 • 黑 • 9kg \n",
      "家庭小精靈 名字:多比 簡介：弟弟 • 2歲 • 金黃色 • 14kg \n",
      "神力女超人 名字:瑪莉 簡介：妹妹 • 4歲 • 米白黑背 • 20kg \n",
      "寸頭小帥哥 名字:黑痞 簡介：弟弟 • 1歲 • 極短黑 • 17kg \n",
      "含羞草公主 名字:蔓蒂 簡介：妹妹 • 7個月 • 金黃色 • 9kg \n",
      "飛天小女警 名字:球球 簡介：妹妹 • 5歲 • 四眼 黑棕色 • 14kg \n",
      "變化系悶騷男 名字:十八 簡介：弟弟 • 7歲 • 銀絲 黑 • 18kg \n",
      "俏麗燕尾服 名字:奧莉薇 簡介：妹妹 • 7歲 • 黑色與白色胸毛 • 18kg \n",
      "舞會女王 名字:焦糖 簡介：妹妹 • 5歲 • 鉻黃色 • 16kg \n",
      "瀟灑小哥 名字:小橘 簡介：弟弟 • 4歲 • 橙棕色 • 5kg \n",
      "蜜糖女孩 名字:糖糖 簡介：妹妹 • 7歲 • 霧霧的棕黑色 • 15kg \n",
      "黏踢踢小女友 名字:珍妮 簡介：妹妹 • 5歲 • 黑色 • 14kg \n",
      "貪吃寶貝 名字:仙貝 簡介：弟弟 • 7歲 • 黑帶棕 • 18kg \n",
      "知足常樂的奶奶 名字:潔芮 簡介：妹妹 • 13歲 • 虎斑 • 27kg \n",
      "樂天大叔 名字:查理 簡介：弟弟 • 12歲 • 黑 • 20kg \n",
      "心臟爆擊大師 名字:波莉絲 簡介：妹妹 • 4歲 • 銀黑色 • 4kg \n",
      "靦腆小寶貝 名字:露比 簡介：妹妹 • 5歲 • 黑色 • 7kg \n",
      "角落女孩 名字:甜甜 簡介：妹妹 • 4歲 • 黑色 • 5kg \n",
      "食物消滅者 名字:黑黑 簡介：弟弟 • 7歲 • 黑帶褐 • 23kg \n",
      "樂天暖男 名字:史酷比 簡介：弟弟 • 7歲 • 棕色 • 21kg \n",
      "魔法公主 名字:小桑 簡介：妹妹 • 8歲 • 棕色和白色 • 22kg \n",
      "啦啦隊隊長 名字:阿布 簡介：妹妹 • 7歲 • 虎斑 • 19kg \n",
      "悶騷襪 名字:襪子 簡介：妹妹 • 5歲 • 黑帶黃 • 17kg \n",
      "資優生 名字:葵妮 簡介：妹妹 • 6歲 • 黑 • 15kg \n",
      "淡定女孩 名字:可可 簡介：妹妹 • 8歲 • 黃黑 • 17kg \n",
      "大胃王 名字:譚德 簡介：弟弟 • 7歲 • 橙黃 • 21kg \n",
      "溫柔大玩偶 名字:​黛咪 簡介：妹妹 • 8歲 • 黑 • 32kg \n",
      "害羞小女孩 名字:凱凱 簡介：妹妹 • 9歲 • 稻荷金 • 15kg \n",
      "勇敢保鏢 名字:威威 簡介：弟弟 • 9歲 • 黑曜石 • 20kg \n",
      "慢半拍 名字:七堵 簡介：弟弟 • 9歲 • 星空黑 • 14kg \n",
      "凱西媽媽 名字:凱西 簡介：妹妹 • 2歲 • 花紋 • 14kg \n",
      "膽小狗英雄 名字:恰姆 簡介：弟弟 • 7歲 • 曜岩黑 • 21kg \n",
      "交際花 名字:菲利普 簡介：弟弟 • 8歲 • 酷黑 • 20kg \n",
      "蝙蝠女俠 名字:奈歐蜜 簡介：妹妹 • 11歲 • 黑 • 22kg \n"
     ]
    },
    {
     "ename": "AttributeError",
     "evalue": "'NoneType' object has no attribute 'text'",
     "output_type": "error",
     "traceback": [
      "\u001b[0;31m---------------------------------------------------------------------------\u001b[0m",
      "\u001b[0;31mAttributeError\u001b[0m                            Traceback (most recent call last)",
      "Input \u001b[0;32mIn [2]\u001b[0m, in \u001b[0;36m<cell line: 3>\u001b[0;34m()\u001b[0m\n\u001b[1;32m      1\u001b[0m info_items \u001b[38;5;241m=\u001b[39m soup\u001b[38;5;241m.\u001b[39mfind_all(\u001b[38;5;124m'\u001b[39m\u001b[38;5;124ma\u001b[39m\u001b[38;5;124m'\u001b[39m,\u001b[38;5;124m\"\u001b[39m\u001b[38;5;124mno-link\u001b[39m\u001b[38;5;124m\"\u001b[39m)\n\u001b[1;32m      3\u001b[0m \u001b[38;5;28;01mfor\u001b[39;00m item \u001b[38;5;129;01min\u001b[39;00m info_items:\n\u001b[0;32m----> 4\u001b[0m     name \u001b[38;5;241m=\u001b[39m \u001b[43mitem\u001b[49m\u001b[38;5;241;43m.\u001b[39;49m\u001b[43mfind\u001b[49m\u001b[43m(\u001b[49m\u001b[38;5;124;43m'\u001b[39;49m\u001b[38;5;124;43mh3\u001b[39;49m\u001b[38;5;124;43m'\u001b[39;49m\u001b[43m,\u001b[49m\u001b[38;5;124;43m'\u001b[39;49m\u001b[38;5;124;43mitem-title\u001b[39;49m\u001b[38;5;124;43m'\u001b[39;49m\u001b[43m)\u001b[49m\u001b[38;5;241;43m.\u001b[39;49m\u001b[43mtext\u001b[49m\u001b[38;5;241m.\u001b[39mstrip()\n\u001b[1;32m      5\u001b[0m     topic \u001b[38;5;241m=\u001b[39m item\u001b[38;5;241m.\u001b[39mfind(\u001b[38;5;124m'\u001b[39m\u001b[38;5;124mh5\u001b[39m\u001b[38;5;124m'\u001b[39m, \u001b[38;5;124m'\u001b[39m\u001b[38;5;124mitem-nickname\u001b[39m\u001b[38;5;124m'\u001b[39m)\u001b[38;5;241m.\u001b[39mtext\u001b[38;5;241m.\u001b[39mstrip()\n\u001b[1;32m      6\u001b[0m     info\u001b[38;5;241m=\u001b[39m item\u001b[38;5;241m.\u001b[39mfind(\u001b[38;5;124m'\u001b[39m\u001b[38;5;124mp\u001b[39m\u001b[38;5;124m'\u001b[39m)\u001b[38;5;241m.\u001b[39mtext\u001b[38;5;241m.\u001b[39mstrip()\n",
      "\u001b[0;31mAttributeError\u001b[0m: 'NoneType' object has no attribute 'text'"
     ]
    }
   ],
   "source": [
    "info_items = soup.find_all('a',\"no-link\")\n",
    "\n",
    "for item in info_items:\n",
    "    name = item.find('h3','item-title').text.strip()\n",
    "    topic = item.find('h5', 'item-nickname').text.strip()\n",
    "    info= item.find('p').text.strip()\n",
    "    \n",
    "    print('{} 名字:{} 簡介：{} '.format(topic, name, info))"
   ]
  },
  {
   "cell_type": "code",
   "execution_count": 9,
   "id": "c3069883",
   "metadata": {},
   "outputs": [
    {
     "ename": "AttributeError",
     "evalue": "'NoneType' object has no attribute 'img'",
     "output_type": "error",
     "traceback": [
      "\u001b[0;31m---------------------------------------------------------------------------\u001b[0m",
      "\u001b[0;31mAttributeError\u001b[0m                            Traceback (most recent call last)",
      "Input \u001b[0;32mIn [9]\u001b[0m, in \u001b[0;36m<cell line: 5>\u001b[0;34m()\u001b[0m\n\u001b[1;32m      4\u001b[0m p1 \u001b[38;5;241m=\u001b[39m []\n\u001b[1;32m      5\u001b[0m \u001b[38;5;28;01mfor\u001b[39;00m item \u001b[38;5;129;01min\u001b[39;00m itemslist:\n\u001b[0;32m----> 6\u001b[0m     picture \u001b[38;5;241m=\u001b[39m \u001b[43mitem\u001b[49m\u001b[38;5;241;43m.\u001b[39;49m\u001b[43mfind\u001b[49m\u001b[43m(\u001b[49m\u001b[38;5;124;43m'\u001b[39;49m\u001b[38;5;124;43mdiv\u001b[39;49m\u001b[38;5;124;43m'\u001b[39;49m\u001b[43m,\u001b[49m\u001b[43m \u001b[49m\u001b[38;5;124;43m'\u001b[39;49m\u001b[38;5;124;43moverflow-hidden radius\u001b[39;49m\u001b[38;5;124;43m'\u001b[39;49m\u001b[43m)\u001b[49m\u001b[38;5;241;43m.\u001b[39;49m\u001b[43mimg\u001b[49m\n\u001b[1;32m      7\u001b[0m     p1\u001b[38;5;241m.\u001b[39mappend(picture)    \n\u001b[1;32m      8\u001b[0m p1\n",
      "\u001b[0;31mAttributeError\u001b[0m: 'NoneType' object has no attribute 'img'"
     ]
    }
   ],
   "source": [
    "soup = BeautifulSoup((requests.get(url)).text, \"lxml\")\n",
    "itemslist = soup.find_all('a',\"no-link\")\n",
    "\n",
    "p1 = []\n",
    "for item in itemslist:\n",
    "    picture = item.find('div', 'overflow-hidden radius').img\n",
    "    p1.append(picture)    \n",
    "p1"
   ]
  },
  {
   "cell_type": "code",
   "execution_count": null,
   "id": "d7cd76d9",
   "metadata": {},
   "outputs": [],
   "source": []
  }
 ],
 "metadata": {
  "kernelspec": {
   "display_name": "Python 3 (ipykernel)",
   "language": "python",
   "name": "python3"
  },
  "language_info": {
   "codemirror_mode": {
    "name": "ipython",
    "version": 3
   },
   "file_extension": ".py",
   "mimetype": "text/x-python",
   "name": "python",
   "nbconvert_exporter": "python",
   "pygments_lexer": "ipython3",
   "version": "3.9.12"
  }
 },
 "nbformat": 4,
 "nbformat_minor": 5
}
