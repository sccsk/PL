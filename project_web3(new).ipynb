{
 "cells": [
  {
   "cell_type": "code",
   "execution_count": 4,
   "id": "031d02c1",
   "metadata": {},
   "outputs": [],
   "source": [
    "import requests\n",
    "from bs4 import BeautifulSoup\n",
    "\n",
    "url = 'https://wepet.tw/%E5%AF%B5%E7%89%A9%E9%A0%98%E9%A4%8A'\n",
    "response = requests.get(url=url)\n",
    " \n",
    "soup = BeautifulSoup(response.text, 'lxml')\n"
   ]
  },
  {
   "cell_type": "code",
   "execution_count": 21,
   "id": "c3069883",
   "metadata": {},
   "outputs": [
    {
     "name": "stdout",
     "output_type": "stream",
     "text": [
      "None\n",
      "<a class=\"text-white\" href=\"https://wepet.tw\">首頁</a>\n",
      "None\n",
      "<a class=\"text-white text-capitalize d-block text-truncate\" href=\"https://wepet.tw/領養資訊-221207211634420812672\">憨吉</a>\n",
      "None\n",
      "None\n",
      "None\n"
     ]
    }
   ],
   "source": [
    "info_items = soup.find_all('div', 'container')\n",
    "\n",
    " \n",
    "for item in info_items:\n",
    "    topic = item.find('p', 'text-white mb-5')\n",
    "    name= item.find('a', '')\n",
    "    info= item.find('ul','list-unstyled mb-2')\n",
    "    \n",
    "\n",
    "    print(name)"
   ]
  },
  {
   "cell_type": "code",
   "execution_count": null,
   "id": "4f077fea",
   "metadata": {},
   "outputs": [],
   "source": [
    ".a.text.strip()"
   ]
  }
 ],
 "metadata": {
  "kernelspec": {
   "display_name": "Python 3 (ipykernel)",
   "language": "python",
   "name": "python3"
  },
  "language_info": {
   "codemirror_mode": {
    "name": "ipython",
    "version": 3
   },
   "file_extension": ".py",
   "mimetype": "text/x-python",
   "name": "python",
   "nbconvert_exporter": "python",
   "pygments_lexer": "ipython3",
   "version": "3.9.12"
  }
 },
 "nbformat": 4,
 "nbformat_minor": 5
}
