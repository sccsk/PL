{
 "cells": [
  {
   "cell_type": "code",
   "execution_count": 4,
   "id": "5f0b20de",
   "metadata": {},
   "outputs": [],
   "source": [
    "#查詢本週新片\n",
    "import requests\n",
    "from bs4 import BeautifulSoup\n",
    " \n",
    "url = 'https://movies.yahoo.com.tw/movie_thisweek.html'\n",
    "response = requests.get(url=url)\n",
    " \n",
    "soup = BeautifulSoup(response.text, 'lxml')\n"
   ]
  },
  {
   "cell_type": "code",
   "execution_count": 9,
   "id": "4abbb2e9",
   "metadata": {},
   "outputs": [
    {
     "name": "stdout",
     "output_type": "stream",
     "text": [
      "捍衛戰士：獨行俠(Top Gun: Maverick) 上映日：2022-12-07 期待度：94%\n",
      "瘋狂富作用(Triangle of Sadness) 上映日：2022-12-09 期待度：100%\n",
      "魚之子(The Fish Tale) 上映日：2022-12-09 期待度：100%\n",
      "失控正義(Christmas Carol) 上映日：2022-12-09 期待度：100%\n",
      "晝盲神探(The Night Owl) 上映日：2022-12-09 期待度：97%\n",
      "俠探特攻：贖罪行動(Detective Knight: Redemption) 上映日：2022-12-09 期待度：97%\n",
      "愛情在車上(With Love From Koshu-Kaido) 上映日：2022-12-09 期待度：94%\n",
      "好想傳達你的聲音(Your Voice -KIMIKOE-) 上映日：2022-12-09 期待度：100%\n",
      "小說家電影(The Novelist's Film) 上映日：2022-12-09 期待度：100%\n",
      "這個殺手不太冷靜(Too Cool To Kill) 上映日：2022-12-09 期待度：100%\n"
     ]
    }
   ],
   "source": [
    "#列出我要的資訊\n",
    "info_items = soup.find_all('div', 'release_info')\n",
    " \n",
    "for item in info_items:\n",
    "    name = item.find('div', 'release_movie_name').a.text.strip()\n",
    "    english_name = item.find('div', 'en').a.text.strip()\n",
    "    release_time = item.find('div', 'release_movie_time').text.split('：')[-1].strip()\n",
    "    level = item.find('div', 'leveltext').span.text.strip()\n",
    "    \n",
    "    \n",
    "    print('{}({}) 上映日：{} 期待度：{}'.format(name, english_name, release_time, level))\n"
   ]
  },
  {
   "cell_type": "code",
   "execution_count": 7,
   "id": "78adcd00",
   "metadata": {
    "scrolled": true
   },
   "outputs": [
    {
     "data": {
      "text/plain": [
       "{'name': [['玩命光頭'],\n",
       "  ['小藍'],\n",
       "  ['瑞士鐘錶師'],\n",
       "  ['局中局'],\n",
       "  ['刀劍神域劇場版 –Progressive- 陰沉薄暮的詼諧曲'],\n",
       "  ['遺屍物'],\n",
       "  ['絕命線阱'],\n",
       "  ['索蘭琪的少女心事'],\n",
       "  ['大逃殺 4K數位修復版'],\n",
       "  ['獵空計畫']],\n",
       " 'english_name': [['Very Bald trip'],\n",
       "  ['Little Blue'],\n",
       "  ['Unrueh'],\n",
       "  ['Confession'],\n",
       "  ['Sword Art Online the Movie -Progressive- Scherzo of Deep Night'],\n",
       "  ['Lost and Found'],\n",
       "  ['On the Line'],\n",
       "  ['Petite Solange'],\n",
       "  ['Battle Royale'],\n",
       "  ['Mission Sky']],\n",
       " 'release_time': [['2022-11-04'],\n",
       "  ['2022-11-04'],\n",
       "  ['2022-11-04'],\n",
       "  ['2022-11-04'],\n",
       "  ['2022-11-04'],\n",
       "  ['2022-11-04'],\n",
       "  ['2022-11-04'],\n",
       "  ['2022-11-04'],\n",
       "  ['2022-11-04'],\n",
       "  ['2022-11-04']],\n",
       " 'level': [['80%'],\n",
       "  ['73%'],\n",
       "  ['100%'],\n",
       "  ['95%'],\n",
       "  ['91%'],\n",
       "  ['80%'],\n",
       "  ['100%'],\n",
       "  ['100%'],\n",
       "  ['97%'],\n",
       "  ['60%']]}"
      ]
     },
     "execution_count": 7,
     "metadata": {},
     "output_type": "execute_result"
    }
   ],
   "source": [
    "#做成一個巢狀資料\n",
    "soup = BeautifulSoup((requests.get(url)).text, \"lxml\")\n",
    "movieList_items = soup.find_all('div', 'release_info')\n",
    "movie = {'name':[],'english_name':[],'release_time':[],'level':[]}\n",
    "for item in movieList_items:\n",
    "    name = item.find('div', 'release_movie_name').a.text.strip()\n",
    "    english_name = item.find('div', 'en').text.strip()\n",
    "    release_time = item.find('div', 'release_movie_time').text.split('：')[-1].strip()\n",
    "    level = item.find('div', 'leveltext').span.text.strip()\n",
    "    movie.get('name').append([name])\n",
    "    movie.get('english_name').append([english_name])\n",
    "    movie.get('release_time').append([release_time])\n",
    "    movie.get('level').append([level])\n",
    "    \n",
    "movie"
   ]
  },
  {
   "cell_type": "code",
   "execution_count": 17,
   "id": "6cba566f",
   "metadata": {},
   "outputs": [
    {
     "name": "stdout",
     "output_type": "stream",
     "text": [
      "                               name  \\\n",
      "0                            [玩命光頭]   \n",
      "1                              [小藍]   \n",
      "2                           [瑞士鐘錶師]   \n",
      "3                             [局中局]   \n",
      "4  [刀劍神域劇場版 –Progressive- 陰沉薄暮的詼諧曲]   \n",
      "5                             [遺屍物]   \n",
      "6                            [絕命線阱]   \n",
      "7                        [索蘭琪的少女心事]   \n",
      "8                     [大逃殺 4K數位修復版]   \n",
      "9                            [獵空計畫]   \n",
      "\n",
      "                                        english_name  release_time   level  \n",
      "0                                   [Very Bald trip]  [2022-11-04]   [80%]  \n",
      "1                                      [Little Blue]  [2022-11-04]   [73%]  \n",
      "2                                           [Unrueh]  [2022-11-04]  [100%]  \n",
      "3                                       [Confession]  [2022-11-04]   [95%]  \n",
      "4  [Sword Art Online the Movie -Progressive- Sche...  [2022-11-04]   [91%]  \n",
      "5                                   [Lost and Found]  [2022-11-04]   [80%]  \n",
      "6                                      [On the Line]  [2022-11-04]  [100%]  \n",
      "7                                   [Petite Solange]  [2022-11-04]  [100%]  \n",
      "8                                    [Battle Royale]  [2022-11-04]  [100%]  \n",
      "9                                      [Mission Sky]  [2022-11-04]   [75%]  \n"
     ]
    }
   ],
   "source": [
    "#轉成 DataFrame\n",
    "import pandas as pd\n",
    "df=pd.DataFrame(movie)\n",
    "print(df)"
   ]
  },
  {
   "cell_type": "code",
   "execution_count": 22,
   "id": "64834e77",
   "metadata": {},
   "outputs": [
    {
     "name": "stdout",
     "output_type": "stream",
     "text": [
      "json下載完成\n"
     ]
    }
   ],
   "source": [
    "#做成json檔和下載\n",
    "import json\n",
    "with open('本週新片.json', 'w', encoding='utf-8') as file:\n",
    "    json.dump(movie, file, ensure_ascii=False)\n",
    "print(\"json下載完成\")"
   ]
  },
  {
   "cell_type": "code",
   "execution_count": 8,
   "id": "66ad09c2",
   "metadata": {},
   "outputs": [
    {
     "name": "stdout",
     "output_type": "stream",
     "text": [
      "csv下載完成\n"
     ]
    }
   ],
   "source": [
    "#做成csv檔和下載\n",
    "import csv\n",
    " \n",
    "info_items = soup.find_all('div', 'release_info')\n",
    " \n",
    "with open('本週新片.csv', 'w', encoding='utf-8', newline='') as csv_file:\n",
    "     \n",
    "    csv_writer = csv.writer(csv_file)\n",
    "    csv_writer.writerow(['電影片名', '電影英文片名', '上映時間', '網友期待度'])\n",
    " \n",
    "    for item in info_items:\n",
    " \n",
    "        name = item.find('div', 'release_movie_name').a.text.strip()\n",
    "        english_name = item.find('div', 'en').a.text.strip()\n",
    "        release_time = item.find('div', 'release_movie_time').text.split('：')[-1].strip()\n",
    "        level = item.find('div', 'leveltext').span.text.strip()\n",
    "         \n",
    "        csv_writer.writerow([name, english_name, release_time, level])\n",
    "print(\"csv下載完成\")        "
   ]
  },
  {
   "cell_type": "code",
   "execution_count": null,
   "id": "27e9385b",
   "metadata": {},
   "outputs": [],
   "source": []
  }
 ],
 "metadata": {
  "kernelspec": {
   "display_name": "Python 3 (ipykernel)",
   "language": "python",
   "name": "python3"
  },
  "language_info": {
   "codemirror_mode": {
    "name": "ipython",
    "version": 3
   },
   "file_extension": ".py",
   "mimetype": "text/x-python",
   "name": "python",
   "nbconvert_exporter": "python",
   "pygments_lexer": "ipython3",
   "version": "3.9.12"
  }
 },
 "nbformat": 4,
 "nbformat_minor": 5
}
